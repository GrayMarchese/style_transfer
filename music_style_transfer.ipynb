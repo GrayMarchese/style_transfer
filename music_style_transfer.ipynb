{
  "nbformat": 4,
  "nbformat_minor": 0,
  "metadata": {
    "colab": {
      "name": "music_style_transfer.ipynb",
      "version": "0.3.2",
      "provenance": [],
      "include_colab_link": true
    },
    "kernelspec": {
      "name": "python3",
      "display_name": "Python 3"
    }
  },
  "cells": [
    {
      "cell_type": "markdown",
      "metadata": {
        "id": "view-in-github",
        "colab_type": "text"
      },
      "source": [
        "<a href=\"https://colab.research.google.com/github/eswens13/style_transfer/blob/dev/erik/music_style_transfer.ipynb\" target=\"_parent\"><img src=\"https://colab.research.google.com/assets/colab-badge.svg\" alt=\"Open In Colab\"/></a>"
      ]
    },
    {
      "metadata": {
        "id": "yLDK0gArOqIQ",
        "colab_type": "text"
      },
      "cell_type": "markdown",
      "source": [
        "# Music Style Transfer"
      ]
    },
    {
      "metadata": {
        "id": "HFhk1qmwOyM5",
        "colab_type": "text"
      },
      "cell_type": "markdown",
      "source": [
        "### Setup\n",
        "\n",
        "We need to make sure we have a couple modules installed so that we can work with the MIDI data files."
      ]
    },
    {
      "metadata": {
        "id": "1NzBTUvFJhw0",
        "colab_type": "code",
        "colab": {
          "base_uri": "https://localhost:8080/",
          "height": 122
        },
        "outputId": "4795956f-63e1-4bf8-c251-02fb88520355"
      },
      "cell_type": "code",
      "source": [
        "!pip install mido"
      ],
      "execution_count": 1,
      "outputs": [
        {
          "output_type": "stream",
          "text": [
            "Collecting mido\n",
            "\u001b[?25l  Downloading https://files.pythonhosted.org/packages/20/0a/81beb587b1ae832ea6a1901dc7c6faa380e8dd154e0a862f0a9f3d2afab9/mido-1.2.9-py2.py3-none-any.whl (52kB)\n",
            "\u001b[K    100% |████████████████████████████████| 61kB 2.3MB/s \n",
            "\u001b[?25hInstalling collected packages: mido\n",
            "Successfully installed mido-1.2.9\n"
          ],
          "name": "stdout"
        }
      ]
    },
    {
      "metadata": {
        "id": "3Dd4r5wqJtj5",
        "colab_type": "code",
        "colab": {
          "base_uri": "https://localhost:8080/",
          "height": 122
        },
        "outputId": "ccdceb6e-7837-4bff-8a46-adcbd044c095"
      },
      "cell_type": "code",
      "source": [
        "from google.colab import drive\n",
        "drive.mount('/content/drive')"
      ],
      "execution_count": 2,
      "outputs": [
        {
          "output_type": "stream",
          "text": [
            "Go to this URL in a browser: https://accounts.google.com/o/oauth2/auth?client_id=947318989803-6bn6qk8qdgf4n4g3pfee6491hc0brc4i.apps.googleusercontent.com&redirect_uri=urn%3Aietf%3Awg%3Aoauth%3A2.0%3Aoob&scope=email%20https%3A%2F%2Fwww.googleapis.com%2Fauth%2Fdocs.test%20https%3A%2F%2Fwww.googleapis.com%2Fauth%2Fdrive%20https%3A%2F%2Fwww.googleapis.com%2Fauth%2Fdrive.photos.readonly%20https%3A%2F%2Fwww.googleapis.com%2Fauth%2Fpeopleapi.readonly&response_type=code\n",
            "\n",
            "Enter your authorization code:\n",
            "··········\n",
            "Mounted at /content/drive\n"
          ],
          "name": "stdout"
        }
      ]
    },
    {
      "metadata": {
        "id": "L8UehxTfKEYT",
        "colab_type": "code",
        "colab": {
          "base_uri": "https://localhost:8080/",
          "height": 204
        },
        "outputId": "c025020f-9329-4d5b-bae6-4decde149cf2"
      },
      "cell_type": "code",
      "source": [
        "import os\n",
        "import mido\n",
        "import numpy as np\n",
        "\n",
        "# Open a sample file.\n",
        "DRIVE_DIR = '/content/drive/My Drive/deep_learning/midis'\n",
        "midi_bytes = []\n",
        "filepath = os.path.join(DRIVE_DIR, 'beethoven_beethoven_opus10_3.mid')\n",
        "with open(filepath, 'rb') as infile:\n",
        "  midi_bytes = infile.read()\n",
        "\n",
        "# Parse the sample file.\n",
        "print(\"Read {} bytes\".format(len(midi_bytes)))\n",
        "parser = mido.Parser()\n",
        "for b in midi_bytes:\n",
        "  parser.feed_byte(b)\n",
        "\n",
        "# Get all the messages from the file.\n",
        "msgs = []\n",
        "stop = False\n",
        "while not stop:\n",
        "  msg = parser.get_message()\n",
        "  if not msg:\n",
        "    stop = True\n",
        "  else:\n",
        "    msgs.append(msg)\n",
        "\n",
        "# Look at ten different example messages.\n",
        "examples = []\n",
        "while len(examples) < 10:\n",
        "  i = np.random.randint(len(msgs))\n",
        "  same = False\n",
        "  for ex in examples:\n",
        "    if msgs[i] == ex:\n",
        "      same = True\n",
        "  \n",
        "  if not same:\n",
        "    examples.append(msgs[i])\n",
        "\n",
        "for ex in examples:\n",
        "  print(ex)"
      ],
      "execution_count": 11,
      "outputs": [
        {
          "output_type": "stream",
          "text": [
            "Read 27680 bytes\n",
            "program_change channel=10 program=30 time=0\n",
            "reset time=0\n",
            "control_change channel=11 control=62 value=15 time=0\n",
            "note_on channel=0 note=80 velocity=0 time=0\n",
            "control_change channel=0 control=64 value=0 time=0\n",
            "note_on channel=0 note=48 velocity=37 time=0\n",
            "note_on channel=0 note=75 velocity=0 time=0\n",
            "note_on channel=0 note=72 velocity=49 time=0\n",
            "note_on channel=0 note=89 velocity=0 time=0\n",
            "note_on channel=0 note=51 velocity=0 time=0\n"
          ],
          "name": "stdout"
        }
      ]
    }
  ]
}