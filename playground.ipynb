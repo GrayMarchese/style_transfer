{
  "nbformat": 4,
  "nbformat_minor": 0,
  "metadata": {
    "colab": {
      "name": "playground.ipynb",
      "version": "0.3.2",
      "provenance": [],
      "include_colab_link": true
    },
    "kernelspec": {
      "name": "python2",
      "display_name": "Python 2"
    },
    "accelerator": "GPU"
  },
  "cells": [
    {
      "cell_type": "markdown",
      "metadata": {
        "id": "view-in-github",
        "colab_type": "text"
      },
      "source": [
        "<a href=\"https://colab.research.google.com/github/eswens13/style_transfer/blob/dev/erik/playground.ipynb\" target=\"_parent\"><img src=\"https://colab.research.google.com/assets/colab-badge.svg\" alt=\"Open In Colab\"/></a>"
      ]
    },
    {
      "metadata": {
        "id": "xcKyJ1kq2mwO",
        "colab_type": "code",
        "colab": {
          "base_uri": "https://localhost:8080/",
          "height": 54
        },
        "outputId": "0060388d-86c4-4402-fef6-4164948d404e"
      },
      "cell_type": "code",
      "source": [
        "from google.colab import drive\n",
        "drive.mount('/content/drive')"
      ],
      "execution_count": 1,
      "outputs": [
        {
          "output_type": "stream",
          "text": [
            "Drive already mounted at /content/drive; to attempt to forcibly remount, call drive.mount(\"/content/drive\", force_remount=True).\n"
          ],
          "name": "stdout"
        }
      ]
    },
    {
      "metadata": {
        "id": "r92qv9NJ4NO9",
        "colab_type": "code",
        "colab": {
          "base_uri": "https://localhost:8080/",
          "height": 1584
        },
        "outputId": "f34d3164-4a27-429b-82c5-4d23d27eff10"
      },
      "cell_type": "code",
      "source": [
        "# Colab has CUDA 9.2 installed by default. Magenta wants version 9.0.\n",
        "!wget https://developer.nvidia.com/compute/cuda/9.0/Prod/local_installers/cuda-repo-ubuntu1704-9-0-local_9.0.176-1_amd64-deb\n",
        "!dpkg -i cuda-repo-ubuntu1704-9-0-local_9.0.176-1_amd64-deb\n",
        "!apt-key add /var/cuda-repo-9-0-local/7fa2af80.pub\n",
        "!apt-get update\n",
        "!apt-get install -y cuda-9-0\n",
        "\n",
        "# Modify the CUDA symlink to point to the 9.0 version.\n",
        "!unlink /usr/local/cuda\n",
        "!ln -sf /usr/local/cuda-9.0 /usr/local/cuda\n",
        "print \"\\nCheck that /usr/local/cuda is pointing to cuda 9.0:\\n\"\n",
        "!ls -la /usr/local/\n",
        "\n",
        "# Will fail without the newer version of this package.\n",
        "!pip install tensorflow-probability-gpu==0.5.0rc0\n",
        "\n",
        "# We have to include the CUDA toolkit in the LD_LIBRARY_PATH environment\n",
        "# variable. For some reason, the change has no effect when using the normal bash\n",
        "# export syntax. Have to use python os.environ object.\n",
        "import os\n",
        "os.environ['LD_LIBRARY_PATH'] = '/usr/local/cuda/lib64:' + os.environ['LD_LIBRARY_PATH']\n",
        "print \"The path below should include /usr/local/cuda/lib64\"\n",
        "!echo $LD_LIBRARY_PATH"
      ],
      "execution_count": 6,
      "outputs": [
        {
          "output_type": "stream",
          "text": [
            "--2018-11-28 01:57:05--  https://developer.nvidia.com/compute/cuda/9.0/Prod/local_installers/cuda-repo-ubuntu1704-9-0-local_9.0.176-1_amd64-deb\n",
            "Resolving developer.nvidia.com (developer.nvidia.com)... 192.229.182.215\n",
            "Connecting to developer.nvidia.com (developer.nvidia.com)|192.229.182.215|:443... connected.\n",
            "HTTP request sent, awaiting response... 302 Found\n",
            "Location: https://developer.download.nvidia.com/compute/cuda/9.0/secure/Prod/local_installers/cuda-repo-ubuntu1704-9-0-local_9.0.176-1_amd64.deb?EeU3wDRWSC_nvxOprHP5WHydKv8TK-tB7wI3lpVQp2oOTDkJkNYL4rUv5GQIti7hvIJHSIl3VpsRnc_7nylmCv0J461xRwNq2kJFAhi6RrfZAkCx_JuRKkex_M5G3Ptr6QlBBzm0WnUDkTujnIZurB51TkeUyO7poxUwewqrgrK3gXteQryh9r5QILUZztsGD2gky5bwCABtBP0Ta2E9 [following]\n",
            "--2018-11-28 01:57:06--  https://developer.download.nvidia.com/compute/cuda/9.0/secure/Prod/local_installers/cuda-repo-ubuntu1704-9-0-local_9.0.176-1_amd64.deb?EeU3wDRWSC_nvxOprHP5WHydKv8TK-tB7wI3lpVQp2oOTDkJkNYL4rUv5GQIti7hvIJHSIl3VpsRnc_7nylmCv0J461xRwNq2kJFAhi6RrfZAkCx_JuRKkex_M5G3Ptr6QlBBzm0WnUDkTujnIZurB51TkeUyO7poxUwewqrgrK3gXteQryh9r5QILUZztsGD2gky5bwCABtBP0Ta2E9\n",
            "Resolving developer.download.nvidia.com (developer.download.nvidia.com)... 192.229.221.58, 2606:2800:233:ef6:15dd:1ece:1d50:1e1\n",
            "Connecting to developer.download.nvidia.com (developer.download.nvidia.com)|192.229.221.58|:443... connected.\n",
            "HTTP request sent, awaiting response... 200 OK\n",
            "Length: 1216133170 (1.1G) [application/x-deb]\n",
            "Saving to: ‘cuda-repo-ubuntu1704-9-0-local_9.0.176-1_amd64-deb.4’\n",
            "\n",
            "cuda-repo-ubuntu170 100%[===================>]   1.13G   104MB/s    in 11s     \n",
            "\n",
            "2018-11-28 01:57:17 (103 MB/s) - ‘cuda-repo-ubuntu1704-9-0-local_9.0.176-1_amd64-deb.4’ saved [1216133170/1216133170]\n",
            "\n",
            "(Reading database ... 79278 files and directories currently installed.)\n",
            "Preparing to unpack cuda-repo-ubuntu1704-9-0-local_9.0.176-1_amd64-deb ...\n",
            "Unpacking cuda-repo-ubuntu1704-9-0-local (9.0.176-1) over (9.0.176-1) ...\n",
            "Setting up cuda-repo-ubuntu1704-9-0-local (9.0.176-1) ...\n",
            "OK\n",
            "Get:1 file:/var/cuda-repo-9-0-local  InRelease\n",
            "Ign:1 file:/var/cuda-repo-9-0-local  InRelease\n",
            "Get:2 file:/var/cuda-repo-9-0-local  Release [574 B]\n",
            "Hit:3 http://archive.ubuntu.com/ubuntu bionic InRelease\n",
            "Hit:4 http://archive.ubuntu.com/ubuntu bionic-updates InRelease\n",
            "Get:5 http://security.ubuntu.com/ubuntu bionic-security InRelease [83.2 kB]\n",
            "Hit:6 http://ppa.launchpad.net/graphics-drivers/ppa/ubuntu bionic InRelease\n",
            "Get:2 file:/var/cuda-repo-9-0-local  Release [574 B]\n",
            "Get:7 http://archive.ubuntu.com/ubuntu bionic-backports InRelease [74.6 kB]\n",
            "Ign:8 https://developer.download.nvidia.com/compute/cuda/repos/ubuntu1710/x86_64  InRelease\n",
            "Ign:9 https://developer.download.nvidia.com/compute/machine-learning/repos/ubuntu1604/x86_64  InRelease\n",
            "Hit:10 https://developer.download.nvidia.com/compute/cuda/repos/ubuntu1710/x86_64  Release\n",
            "Hit:11 https://developer.download.nvidia.com/compute/machine-learning/repos/ubuntu1604/x86_64  Release\n",
            "Fetched 158 kB in 3s (50.9 kB/s)\n",
            "Reading package lists... Done\n",
            "Reading package lists... Done\n",
            "Building dependency tree       \n",
            "Reading state information... Done\n",
            "cuda-9-0 is already the newest version (9.0.176-1).\n",
            "You might want to run 'apt --fix-broken install' to correct these.\n",
            "The following packages have unmet dependencies:\n",
            " cuda-drivers : Depends: nvidia-396 (>= 396.44) but it is not going to be installed\n",
            " libcuda1-396 : Depends: nvidia-396 (>= 396.44) but it is not going to be installed\n",
            " nvidia-396-dev : Depends: nvidia-396 (>= 396.44) but it is not going to be installed\n",
            " nvidia-opencl-icd-396 : Depends: nvidia-396 (>= 396.44) but it is not going to be installed\n",
            "E: Unmet dependencies. Try 'apt --fix-broken install' with no packages (or specify a solution).\n",
            "\n",
            "Check that /usr/local/cuda is pointing to cuda 9.0:\n",
            "\n",
            "total 64\n",
            "drwxr-xr-x  1 root root 4096 Nov 28 01:58 .\n",
            "drwxr-xr-x  1 root root 4096 Nov 27 23:29 ..\n",
            "drwxr-xr-x  1 root root 4096 Nov 27 23:30 bin\n",
            "lrwxrwxrwx  1 root root   19 Nov 28 01:58 cuda -> /usr/local/cuda-9.0\n",
            "drwxr-xr-x 15 root root 4096 Nov 27 23:29 cuda-9.0\n",
            "drwxr-xr-x  1 root root 4096 Nov 20 18:05 cuda-9.2\n",
            "drwxr-xr-x  1 root root 4096 Nov 20 18:16 etc\n",
            "drwxr-xr-x  2 root root 4096 Oct 18 21:02 games\n",
            "drwxr-xr-x  2 root root 4096 Oct 18 21:02 include\n",
            "drwxr-xr-x  1 root root 4096 Nov 20 18:05 lib\n",
            "lrwxrwxrwx  1 root root    9 Oct 18 21:02 man -> share/man\n",
            "drwxr-xr-x  2 root root 4096 Oct 18 21:03 sbin\n",
            "drwxr-xr-x  1 root root 4096 Nov 20 18:08 share\n",
            "drwxr-xr-x  2 root root 4096 Oct 18 21:02 src\n",
            "Requirement already satisfied: tensorflow-probability-gpu==0.5.0rc0 in /usr/local/lib/python2.7/dist-packages (0.5.0rc0)\n",
            "Requirement already satisfied: six>=1.10.0 in /usr/local/lib/python2.7/dist-packages (from tensorflow-probability-gpu==0.5.0rc0) (1.11.0)\n",
            "Requirement already satisfied: tensorflow-gpu>=1.12.0-rc2 in /usr/local/lib/python2.7/dist-packages (from tensorflow-probability-gpu==0.5.0rc0) (1.12.0)\n",
            "Requirement already satisfied: numpy>=1.13.3 in /usr/local/lib/python2.7/dist-packages (from tensorflow-probability-gpu==0.5.0rc0) (1.14.6)\n",
            "Requirement already satisfied: grpcio>=1.8.6 in /usr/local/lib/python2.7/dist-packages (from tensorflow-gpu>=1.12.0-rc2->tensorflow-probability-gpu==0.5.0rc0) (1.15.0)\n",
            "Requirement already satisfied: mock>=2.0.0 in /usr/local/lib/python2.7/dist-packages (from tensorflow-gpu>=1.12.0-rc2->tensorflow-probability-gpu==0.5.0rc0) (2.0.0)\n",
            "Requirement already satisfied: keras-applications>=1.0.6 in /usr/local/lib/python2.7/dist-packages (from tensorflow-gpu>=1.12.0-rc2->tensorflow-probability-gpu==0.5.0rc0) (1.0.6)\n",
            "Requirement already satisfied: enum34>=1.1.6 in /usr/local/lib/python2.7/dist-packages (from tensorflow-gpu>=1.12.0-rc2->tensorflow-probability-gpu==0.5.0rc0) (1.1.6)\n",
            "Requirement already satisfied: protobuf>=3.6.1 in /usr/local/lib/python2.7/dist-packages (from tensorflow-gpu>=1.12.0-rc2->tensorflow-probability-gpu==0.5.0rc0) (3.6.1)\n",
            "Requirement already satisfied: keras-preprocessing>=1.0.5 in /usr/local/lib/python2.7/dist-packages (from tensorflow-gpu>=1.12.0-rc2->tensorflow-probability-gpu==0.5.0rc0) (1.0.5)\n",
            "Requirement already satisfied: gast>=0.2.0 in /usr/local/lib/python2.7/dist-packages (from tensorflow-gpu>=1.12.0-rc2->tensorflow-probability-gpu==0.5.0rc0) (0.2.0)\n",
            "Requirement already satisfied: wheel in /usr/local/lib/python2.7/dist-packages (from tensorflow-gpu>=1.12.0-rc2->tensorflow-probability-gpu==0.5.0rc0) (0.32.3)\n",
            "Requirement already satisfied: absl-py>=0.1.6 in /usr/local/lib/python2.7/dist-packages (from tensorflow-gpu>=1.12.0-rc2->tensorflow-probability-gpu==0.5.0rc0) (0.6.1)\n",
            "Requirement already satisfied: backports.weakref>=1.0rc1 in /usr/local/lib/python2.7/dist-packages (from tensorflow-gpu>=1.12.0-rc2->tensorflow-probability-gpu==0.5.0rc0) (1.0.post1)\n",
            "Requirement already satisfied: tensorboard<1.13.0,>=1.12.0 in /usr/local/lib/python2.7/dist-packages (from tensorflow-gpu>=1.12.0-rc2->tensorflow-probability-gpu==0.5.0rc0) (1.12.0)\n",
            "Requirement already satisfied: termcolor>=1.1.0 in /usr/local/lib/python2.7/dist-packages (from tensorflow-gpu>=1.12.0-rc2->tensorflow-probability-gpu==0.5.0rc0) (1.1.0)\n",
            "Requirement already satisfied: astor>=0.6.0 in /usr/local/lib/python2.7/dist-packages (from tensorflow-gpu>=1.12.0-rc2->tensorflow-probability-gpu==0.5.0rc0) (0.7.1)\n",
            "Requirement already satisfied: futures>=2.2.0 in /usr/local/lib/python2.7/dist-packages (from grpcio>=1.8.6->tensorflow-gpu>=1.12.0-rc2->tensorflow-probability-gpu==0.5.0rc0) (3.2.0)\n",
            "Requirement already satisfied: funcsigs>=1; python_version < \"3.3\" in /usr/local/lib/python2.7/dist-packages (from mock>=2.0.0->tensorflow-gpu>=1.12.0-rc2->tensorflow-probability-gpu==0.5.0rc0) (1.0.2)\n",
            "Requirement already satisfied: pbr>=0.11 in /usr/local/lib/python2.7/dist-packages (from mock>=2.0.0->tensorflow-gpu>=1.12.0-rc2->tensorflow-probability-gpu==0.5.0rc0) (5.1.1)\n",
            "Requirement already satisfied: h5py in /usr/local/lib/python2.7/dist-packages (from keras-applications>=1.0.6->tensorflow-gpu>=1.12.0-rc2->tensorflow-probability-gpu==0.5.0rc0) (2.8.0)\n",
            "Requirement already satisfied: setuptools in /usr/local/lib/python2.7/dist-packages (from protobuf>=3.6.1->tensorflow-gpu>=1.12.0-rc2->tensorflow-probability-gpu==0.5.0rc0) (40.6.2)\n",
            "Requirement already satisfied: werkzeug>=0.11.10 in /usr/local/lib/python2.7/dist-packages (from tensorboard<1.13.0,>=1.12.0->tensorflow-gpu>=1.12.0-rc2->tensorflow-probability-gpu==0.5.0rc0) (0.14.1)\n",
            "Requirement already satisfied: markdown>=2.6.8 in /usr/local/lib/python2.7/dist-packages (from tensorboard<1.13.0,>=1.12.0->tensorflow-gpu>=1.12.0-rc2->tensorflow-probability-gpu==0.5.0rc0) (3.0.1)\n",
            "The path below should include /usr/local/cuda/lib64\n",
            "/usr/local/cuda/lib64:/usr/lib64-nvidia\n"
          ],
          "name": "stdout"
        }
      ]
    },
    {
      "metadata": {
        "id": "rcUPgDZW2qdU",
        "colab_type": "code",
        "colab": {
          "base_uri": "https://localhost:8080/",
          "height": 1686
        },
        "outputId": "2636d33d-b106-4beb-de03-35942fbc0d43"
      },
      "cell_type": "code",
      "source": [
        "import tensorflow as tf\n",
        "\n",
        "with tf.Session() as sess:\n",
        "  ckpt_dir = '/content/drive/My Drive/deep_learning/performance_rnn/logdir/training_1/train/'\n",
        "  latest_checkpoint = tf.train.latest_checkpoint(ckpt_dir)\n",
        "\n",
        "  new_saver = tf.train.import_meta_graph(latest_checkpoint + '.meta')\n",
        "  what = new_saver.restore(sess, latest_checkpoint)\n",
        "  all_vars = tf.get_collection(tf.GraphKeys.TRAINABLE_VARIABLES)\n",
        "\n",
        "  for v in all_vars:\n",
        "    print v\n",
        "    \n",
        "    # To see the value of the variables, uncomment.\n",
        "    #v_ = sess.run(v)\n",
        "    #print(v_)"
      ],
      "execution_count": 51,
      "outputs": [
        {
          "output_type": "stream",
          "text": [
            "INFO:tensorflow:Restoring parameters from /content/drive/My Drive/deep_learning/performance_rnn/logdir/training_1/train/model.ckpt-4516\n",
            "<tf.Variable 'rnn/multi_rnn_cell/cell_0/basic_lstm_cell/kernel:0' shape=(868, 2048) dtype=float32_ref>\n",
            "<tf.Variable 'rnn/multi_rnn_cell/cell_0/basic_lstm_cell/bias:0' shape=(2048,) dtype=float32_ref>\n",
            "<tf.Variable 'rnn/multi_rnn_cell/cell_1/basic_lstm_cell/kernel:0' shape=(1024, 2048) dtype=float32_ref>\n",
            "<tf.Variable 'rnn/multi_rnn_cell/cell_1/basic_lstm_cell/bias:0' shape=(2048,) dtype=float32_ref>\n",
            "<tf.Variable 'rnn/multi_rnn_cell/cell_2/basic_lstm_cell/kernel:0' shape=(1024, 2048) dtype=float32_ref>\n",
            "<tf.Variable 'rnn/multi_rnn_cell/cell_2/basic_lstm_cell/bias:0' shape=(2048,) dtype=float32_ref>\n",
            "<tf.Variable 'fully_connected/weights:0' shape=(512, 356) dtype=float32_ref>\n",
            "<tf.Variable 'fully_connected/biases:0' shape=(356,) dtype=float32_ref>\n",
            "<tf.Variable 'rnn/multi_rnn_cell/cell_0/basic_lstm_cell/kernel:0' shape=(868, 2048) dtype=float32_ref>\n",
            "<tf.Variable 'rnn/multi_rnn_cell/cell_0/basic_lstm_cell/bias:0' shape=(2048,) dtype=float32_ref>\n",
            "<tf.Variable 'rnn/multi_rnn_cell/cell_1/basic_lstm_cell/kernel:0' shape=(1024, 2048) dtype=float32_ref>\n",
            "<tf.Variable 'rnn/multi_rnn_cell/cell_1/basic_lstm_cell/bias:0' shape=(2048,) dtype=float32_ref>\n",
            "<tf.Variable 'rnn/multi_rnn_cell/cell_2/basic_lstm_cell/kernel:0' shape=(1024, 2048) dtype=float32_ref>\n",
            "<tf.Variable 'rnn/multi_rnn_cell/cell_2/basic_lstm_cell/bias:0' shape=(2048,) dtype=float32_ref>\n",
            "<tf.Variable 'fully_connected/weights:0' shape=(512, 356) dtype=float32_ref>\n",
            "<tf.Variable 'fully_connected/biases:0' shape=(356,) dtype=float32_ref>\n",
            "<tf.Variable 'rnn/multi_rnn_cell/cell_0/basic_lstm_cell/kernel:0' shape=(868, 2048) dtype=float32_ref>\n",
            "<tf.Variable 'rnn/multi_rnn_cell/cell_0/basic_lstm_cell/bias:0' shape=(2048,) dtype=float32_ref>\n",
            "<tf.Variable 'rnn/multi_rnn_cell/cell_1/basic_lstm_cell/kernel:0' shape=(1024, 2048) dtype=float32_ref>\n",
            "<tf.Variable 'rnn/multi_rnn_cell/cell_1/basic_lstm_cell/bias:0' shape=(2048,) dtype=float32_ref>\n",
            "<tf.Variable 'rnn/multi_rnn_cell/cell_2/basic_lstm_cell/kernel:0' shape=(1024, 2048) dtype=float32_ref>\n",
            "<tf.Variable 'rnn/multi_rnn_cell/cell_2/basic_lstm_cell/bias:0' shape=(2048,) dtype=float32_ref>\n",
            "<tf.Variable 'fully_connected/weights:0' shape=(512, 356) dtype=float32_ref>\n",
            "<tf.Variable 'fully_connected/biases:0' shape=(356,) dtype=float32_ref>\n",
            "<tf.Variable 'rnn/multi_rnn_cell/cell_0/basic_lstm_cell/kernel:0' shape=(868, 2048) dtype=float32_ref>\n",
            "<tf.Variable 'rnn/multi_rnn_cell/cell_0/basic_lstm_cell/bias:0' shape=(2048,) dtype=float32_ref>\n",
            "<tf.Variable 'rnn/multi_rnn_cell/cell_1/basic_lstm_cell/kernel:0' shape=(1024, 2048) dtype=float32_ref>\n",
            "<tf.Variable 'rnn/multi_rnn_cell/cell_1/basic_lstm_cell/bias:0' shape=(2048,) dtype=float32_ref>\n",
            "<tf.Variable 'rnn/multi_rnn_cell/cell_2/basic_lstm_cell/kernel:0' shape=(1024, 2048) dtype=float32_ref>\n",
            "<tf.Variable 'rnn/multi_rnn_cell/cell_2/basic_lstm_cell/bias:0' shape=(2048,) dtype=float32_ref>\n",
            "<tf.Variable 'fully_connected/weights:0' shape=(512, 356) dtype=float32_ref>\n",
            "<tf.Variable 'fully_connected/biases:0' shape=(356,) dtype=float32_ref>\n",
            "<tf.Variable 'rnn/multi_rnn_cell/cell_0/basic_lstm_cell/kernel:0' shape=(868, 2048) dtype=float32_ref>\n",
            "<tf.Variable 'rnn/multi_rnn_cell/cell_0/basic_lstm_cell/bias:0' shape=(2048,) dtype=float32_ref>\n",
            "<tf.Variable 'rnn/multi_rnn_cell/cell_1/basic_lstm_cell/kernel:0' shape=(1024, 2048) dtype=float32_ref>\n",
            "<tf.Variable 'rnn/multi_rnn_cell/cell_1/basic_lstm_cell/bias:0' shape=(2048,) dtype=float32_ref>\n",
            "<tf.Variable 'rnn/multi_rnn_cell/cell_2/basic_lstm_cell/kernel:0' shape=(1024, 2048) dtype=float32_ref>\n",
            "<tf.Variable 'rnn/multi_rnn_cell/cell_2/basic_lstm_cell/bias:0' shape=(2048,) dtype=float32_ref>\n",
            "<tf.Variable 'fully_connected/weights:0' shape=(512, 356) dtype=float32_ref>\n",
            "<tf.Variable 'fully_connected/biases:0' shape=(356,) dtype=float32_ref>\n",
            "<tf.Variable 'rnn/multi_rnn_cell/cell_0/basic_lstm_cell/kernel:0' shape=(868, 2048) dtype=float32_ref>\n",
            "<tf.Variable 'rnn/multi_rnn_cell/cell_0/basic_lstm_cell/bias:0' shape=(2048,) dtype=float32_ref>\n",
            "<tf.Variable 'rnn/multi_rnn_cell/cell_1/basic_lstm_cell/kernel:0' shape=(1024, 2048) dtype=float32_ref>\n",
            "<tf.Variable 'rnn/multi_rnn_cell/cell_1/basic_lstm_cell/bias:0' shape=(2048,) dtype=float32_ref>\n",
            "<tf.Variable 'rnn/multi_rnn_cell/cell_2/basic_lstm_cell/kernel:0' shape=(1024, 2048) dtype=float32_ref>\n",
            "<tf.Variable 'rnn/multi_rnn_cell/cell_2/basic_lstm_cell/bias:0' shape=(2048,) dtype=float32_ref>\n",
            "<tf.Variable 'fully_connected/weights:0' shape=(512, 356) dtype=float32_ref>\n",
            "<tf.Variable 'fully_connected/biases:0' shape=(356,) dtype=float32_ref>\n",
            "<tf.Variable 'rnn/multi_rnn_cell/cell_0/basic_lstm_cell/kernel:0' shape=(868, 2048) dtype=float32_ref>\n",
            "<tf.Variable 'rnn/multi_rnn_cell/cell_0/basic_lstm_cell/bias:0' shape=(2048,) dtype=float32_ref>\n",
            "<tf.Variable 'rnn/multi_rnn_cell/cell_1/basic_lstm_cell/kernel:0' shape=(1024, 2048) dtype=float32_ref>\n",
            "<tf.Variable 'rnn/multi_rnn_cell/cell_1/basic_lstm_cell/bias:0' shape=(2048,) dtype=float32_ref>\n",
            "<tf.Variable 'rnn/multi_rnn_cell/cell_2/basic_lstm_cell/kernel:0' shape=(1024, 2048) dtype=float32_ref>\n",
            "<tf.Variable 'rnn/multi_rnn_cell/cell_2/basic_lstm_cell/bias:0' shape=(2048,) dtype=float32_ref>\n",
            "<tf.Variable 'fully_connected/weights:0' shape=(512, 356) dtype=float32_ref>\n",
            "<tf.Variable 'fully_connected/biases:0' shape=(356,) dtype=float32_ref>\n",
            "<tf.Variable 'rnn/multi_rnn_cell/cell_0/basic_lstm_cell/kernel:0' shape=(868, 2048) dtype=float32_ref>\n",
            "<tf.Variable 'rnn/multi_rnn_cell/cell_0/basic_lstm_cell/bias:0' shape=(2048,) dtype=float32_ref>\n",
            "<tf.Variable 'rnn/multi_rnn_cell/cell_1/basic_lstm_cell/kernel:0' shape=(1024, 2048) dtype=float32_ref>\n",
            "<tf.Variable 'rnn/multi_rnn_cell/cell_1/basic_lstm_cell/bias:0' shape=(2048,) dtype=float32_ref>\n",
            "<tf.Variable 'rnn/multi_rnn_cell/cell_2/basic_lstm_cell/kernel:0' shape=(1024, 2048) dtype=float32_ref>\n",
            "<tf.Variable 'rnn/multi_rnn_cell/cell_2/basic_lstm_cell/bias:0' shape=(2048,) dtype=float32_ref>\n",
            "<tf.Variable 'fully_connected/weights:0' shape=(512, 356) dtype=float32_ref>\n",
            "<tf.Variable 'fully_connected/biases:0' shape=(356,) dtype=float32_ref>\n",
            "<tf.Variable 'rnn/multi_rnn_cell/cell_0/basic_lstm_cell/kernel:0' shape=(868, 2048) dtype=float32_ref>\n",
            "<tf.Variable 'rnn/multi_rnn_cell/cell_0/basic_lstm_cell/bias:0' shape=(2048,) dtype=float32_ref>\n",
            "<tf.Variable 'rnn/multi_rnn_cell/cell_1/basic_lstm_cell/kernel:0' shape=(1024, 2048) dtype=float32_ref>\n",
            "<tf.Variable 'rnn/multi_rnn_cell/cell_1/basic_lstm_cell/bias:0' shape=(2048,) dtype=float32_ref>\n",
            "<tf.Variable 'rnn/multi_rnn_cell/cell_2/basic_lstm_cell/kernel:0' shape=(1024, 2048) dtype=float32_ref>\n",
            "<tf.Variable 'rnn/multi_rnn_cell/cell_2/basic_lstm_cell/bias:0' shape=(2048,) dtype=float32_ref>\n",
            "<tf.Variable 'fully_connected/weights:0' shape=(512, 356) dtype=float32_ref>\n",
            "<tf.Variable 'fully_connected/biases:0' shape=(356,) dtype=float32_ref>\n",
            "<tf.Variable 'rnn/multi_rnn_cell/cell_0/basic_lstm_cell/kernel:0' shape=(868, 2048) dtype=float32_ref>\n",
            "<tf.Variable 'rnn/multi_rnn_cell/cell_0/basic_lstm_cell/bias:0' shape=(2048,) dtype=float32_ref>\n",
            "<tf.Variable 'rnn/multi_rnn_cell/cell_1/basic_lstm_cell/kernel:0' shape=(1024, 2048) dtype=float32_ref>\n",
            "<tf.Variable 'rnn/multi_rnn_cell/cell_1/basic_lstm_cell/bias:0' shape=(2048,) dtype=float32_ref>\n",
            "<tf.Variable 'rnn/multi_rnn_cell/cell_2/basic_lstm_cell/kernel:0' shape=(1024, 2048) dtype=float32_ref>\n",
            "<tf.Variable 'rnn/multi_rnn_cell/cell_2/basic_lstm_cell/bias:0' shape=(2048,) dtype=float32_ref>\n",
            "<tf.Variable 'fully_connected/weights:0' shape=(512, 356) dtype=float32_ref>\n",
            "<tf.Variable 'fully_connected/biases:0' shape=(356,) dtype=float32_ref>\n",
            "<tf.Variable 'rnn/multi_rnn_cell/cell_0/basic_lstm_cell/kernel:0' shape=(868, 2048) dtype=float32_ref>\n",
            "<tf.Variable 'rnn/multi_rnn_cell/cell_0/basic_lstm_cell/bias:0' shape=(2048,) dtype=float32_ref>\n",
            "<tf.Variable 'rnn/multi_rnn_cell/cell_1/basic_lstm_cell/kernel:0' shape=(1024, 2048) dtype=float32_ref>\n",
            "<tf.Variable 'rnn/multi_rnn_cell/cell_1/basic_lstm_cell/bias:0' shape=(2048,) dtype=float32_ref>\n",
            "<tf.Variable 'rnn/multi_rnn_cell/cell_2/basic_lstm_cell/kernel:0' shape=(1024, 2048) dtype=float32_ref>\n",
            "<tf.Variable 'rnn/multi_rnn_cell/cell_2/basic_lstm_cell/bias:0' shape=(2048,) dtype=float32_ref>\n",
            "<tf.Variable 'fully_connected/weights:0' shape=(512, 356) dtype=float32_ref>\n",
            "<tf.Variable 'fully_connected/biases:0' shape=(356,) dtype=float32_ref>\n",
            "<tf.Variable 'rnn/multi_rnn_cell/cell_0/basic_lstm_cell/kernel:0' shape=(868, 2048) dtype=float32_ref>\n",
            "<tf.Variable 'rnn/multi_rnn_cell/cell_0/basic_lstm_cell/bias:0' shape=(2048,) dtype=float32_ref>\n",
            "<tf.Variable 'rnn/multi_rnn_cell/cell_1/basic_lstm_cell/kernel:0' shape=(1024, 2048) dtype=float32_ref>\n",
            "<tf.Variable 'rnn/multi_rnn_cell/cell_1/basic_lstm_cell/bias:0' shape=(2048,) dtype=float32_ref>\n",
            "<tf.Variable 'rnn/multi_rnn_cell/cell_2/basic_lstm_cell/kernel:0' shape=(1024, 2048) dtype=float32_ref>\n",
            "<tf.Variable 'rnn/multi_rnn_cell/cell_2/basic_lstm_cell/bias:0' shape=(2048,) dtype=float32_ref>\n",
            "<tf.Variable 'fully_connected/weights:0' shape=(512, 356) dtype=float32_ref>\n",
            "<tf.Variable 'fully_connected/biases:0' shape=(356,) dtype=float32_ref>\n"
          ],
          "name": "stdout"
        }
      ]
    },
    {
      "metadata": {
        "id": "Su7GnI9jK4vB",
        "colab_type": "code",
        "colab": {
          "base_uri": "https://localhost:8080/",
          "height": 34
        },
        "outputId": "0ef7bab1-96ed-4f34-c128-459026542c0d"
      },
      "cell_type": "code",
      "source": [
        "# Get the current date/time.\n",
        "from datetime import datetime\n",
        "\n",
        "now = datetime.now()\n",
        "hour = now.hour - 7\n",
        "if hour < 0:\n",
        "  hour = 24 + hour\n",
        "elif hour > 23:\n",
        "  hour = hour % 23\n",
        "\n",
        "print \"{:02d}{:02d}{:04d}_{:02d}{:02d}\".format(now.month, now.day, now.year, hour, now.minute)"
      ],
      "execution_count": 59,
      "outputs": [
        {
          "output_type": "stream",
          "text": [
            "11282018_2013\n"
          ],
          "name": "stdout"
        }
      ]
    },
    {
      "metadata": {
        "id": "Tu1eatPMRacc",
        "colab_type": "code",
        "colab": {}
      },
      "cell_type": "code",
      "source": [
        ""
      ],
      "execution_count": 0,
      "outputs": []
    }
  ]
}