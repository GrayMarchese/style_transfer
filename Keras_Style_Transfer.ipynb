{
  "nbformat": 4,
  "nbformat_minor": 0,
  "metadata": {
    "colab": {
      "name": "Keras Style Transfer",
      "version": "0.3.2",
      "provenance": [],
      "collapsed_sections": [],
      "include_colab_link": true
    },
    "kernelspec": {
      "name": "python3",
      "display_name": "Python 3"
    },
    "accelerator": "GPU"
  },
  "cells": [
    {
      "cell_type": "markdown",
      "metadata": {
        "id": "view-in-github",
        "colab_type": "text"
      },
      "source": [
        "<a href=\"https://colab.research.google.com/github/eswens13/style_transfer/blob/dev/erik/Keras_Style_Transfer.ipynb\" target=\"_parent\"><img src=\"https://colab.research.google.com/assets/colab-badge.svg\" alt=\"Open In Colab\"/></a>"
      ]
    },
    {
      "metadata": {
        "id": "3GRf8wVhVEXn",
        "colab_type": "text"
      },
      "cell_type": "markdown",
      "source": [
        "# Setup\n"
      ]
    },
    {
      "metadata": {
        "id": "SLlYaef2V-Ta",
        "colab_type": "text"
      },
      "cell_type": "markdown",
      "source": [
        "## Imports and Installs"
      ]
    },
    {
      "metadata": {
        "id": "v-CqZskHcALm",
        "colab_type": "code",
        "outputId": "7e1cf9f7-82f4-404d-f218-bfe8a60001c2",
        "colab": {
          "base_uri": "https://localhost:8080/",
          "height": 34
        }
      },
      "cell_type": "code",
      "source": [
        "from google.colab import drive\n",
        "drive.mount('/content/drive')"
      ],
      "execution_count": 1,
      "outputs": [
        {
          "output_type": "stream",
          "text": [
            "Drive already mounted at /content/drive; to attempt to forcibly remount, call drive.mount(\"/content/drive\", force_remount=True).\n"
          ],
          "name": "stdout"
        }
      ]
    },
    {
      "metadata": {
        "id": "uVJVkLKSU51l",
        "colab_type": "code",
        "outputId": "ce118cc6-2fc5-4058-b864-0d9e3fb167aa",
        "colab": {
          "base_uri": "https://localhost:8080/",
          "height": 102
        }
      },
      "cell_type": "code",
      "source": [
        "# Installing packages and cloning git repos\n",
        "!pip install music21\n",
        "!pip install h5py\n",
        "!git clone https://github.com/Skuldur/Classical-Piano-Composer.git"
      ],
      "execution_count": 2,
      "outputs": [
        {
          "output_type": "stream",
          "text": [
            "Requirement already satisfied: music21 in /usr/local/lib/python3.6/dist-packages (5.5.0)\n",
            "Requirement already satisfied: h5py in /usr/local/lib/python3.6/dist-packages (2.8.0)\n",
            "Requirement already satisfied: numpy>=1.7 in /usr/local/lib/python3.6/dist-packages (from h5py) (1.14.6)\n",
            "Requirement already satisfied: six in /usr/local/lib/python3.6/dist-packages (from h5py) (1.11.0)\n",
            "fatal: destination path 'Classical-Piano-Composer' already exists and is not an empty directory.\n"
          ],
          "name": "stdout"
        }
      ]
    },
    {
      "metadata": {
        "id": "aEGEnvwJVI5A",
        "colab_type": "code",
        "outputId": "7d3485f0-a980-49a7-b81e-23cbfaaff6f3",
        "colab": {
          "base_uri": "https://localhost:8080/",
          "height": 34
        }
      },
      "cell_type": "code",
      "source": [
        "# imports\n",
        "import keras\n",
        "from keras import backend as K\n",
        "import tensorflow as tf\n",
        "import music21\n",
        "import h5py\n",
        "import os\n",
        "import numpy as np"
      ],
      "execution_count": 3,
      "outputs": [
        {
          "output_type": "stream",
          "text": [
            "Using TensorFlow backend.\n"
          ],
          "name": "stderr"
        }
      ]
    },
    {
      "metadata": {
        "id": "UL9lJxeaVPtG",
        "colab_type": "code",
        "colab": {}
      },
      "cell_type": "code",
      "source": [
        "os.chdir('Classical-Piano-Composer')"
      ],
      "execution_count": 0,
      "outputs": []
    },
    {
      "metadata": {
        "id": "eWzSEMNwWldZ",
        "colab_type": "text"
      },
      "cell_type": "markdown",
      "source": [
        "# Define Loss Function"
      ]
    },
    {
      "metadata": {
        "id": "oJ5ZBSNgWa5J",
        "colab_type": "code",
        "colab": {}
      },
      "cell_type": "code",
      "source": [
        "def content_loss(input_sequence, output_sequence):\n",
        "  cl = tf.linalg.norm(input_sequence - output_sequence)\n",
        "  return cl\n",
        "\n",
        "\n",
        "def style_loss(trained_model, new_model):\n",
        "  num_layers = len(trained_model.layers)\n",
        "  loss = tf.constant(0.0, dtype=tf.float32)\n",
        "  \n",
        "  # Loop through weights\n",
        "  for i in range(num_layers):\n",
        "    trained_layer = trained_model.layers[i]\n",
        "    new_layer = new_model.layers[i]\n",
        "    # Check if layer is LSTM or Dense\n",
        "    if not (str(type(trained_layer) == \"<class 'keras.layers.recurrent.LSTM'>\")) \\\n",
        "      and not (str(type(trained_layer) == \"<class 'keras.layers.core.Dense'>\")):\n",
        "      continue\n",
        "  \n",
        "    trained_weights = trained_layer.weights\n",
        "    new_weights = new_layer.weights \n",
        "    for j in range(len(trained_layer.weights)):\n",
        "      # WTF??  Why does tf.linalg.norm(trained_weights[j] - new_weights[j]) work?\n",
        "      # We think that, because some of these differences are very small, the\n",
        "      # square root has a very hard time with the small input and results in NaN.\n",
        "      loss += tf.reduce_sum(tf.square(trained_weights[j] - new_weights[j]))\n",
        "      \n",
        "  return loss\n",
        "\n",
        "\n",
        "def total_loss(input_sequence, output_sequence, trained_model, new_model, alpha, beta):\n",
        "  return tf.cast(alpha*content_loss(input_sequence, output_sequence), tf.float64) \\\n",
        "          + tf.cast(beta*style_loss(trained_model, new_model), tf.float64)"
      ],
      "execution_count": 0,
      "outputs": []
    },
    {
      "metadata": {
        "id": "LLGKgnvXdjzN",
        "colab_type": "code",
        "colab": {}
      },
      "cell_type": "code",
      "source": [
        "#style_loss(model, model)"
      ],
      "execution_count": 0,
      "outputs": []
    },
    {
      "metadata": {
        "id": "T9SbFGiidrR6",
        "colab_type": "code",
        "colab": {}
      },
      "cell_type": "code",
      "source": [
        "#input_sequence = tf.zeros(shape=[2,2])\n",
        "#output_sequence = tf.zeros(shape=[2,2])\n",
        "\n",
        "#with tf.Session() as sess:\n",
        "#  init = tf.global_variables_initializer()\n",
        "#  sess.run(init)\n",
        "#  x = sess.run(content_loss(input_sequence, output_sequence))\n",
        "#  y = sess.run(total_loss(input_sequence, output_sequence, model, model, 1, 1))\n",
        "#  print(y)\"\"\""
      ],
      "execution_count": 0,
      "outputs": []
    },
    {
      "metadata": {
        "id": "aBdeQvbuqLVP",
        "colab_type": "text"
      },
      "cell_type": "markdown",
      "source": [
        "# Generate a Sequence"
      ]
    },
    {
      "metadata": {
        "id": "22yJsCXwiSrP",
        "colab_type": "code",
        "colab": {}
      },
      "cell_type": "code",
      "source": [
        "from lstm import get_notes, prepare_sequences"
      ],
      "execution_count": 0,
      "outputs": []
    },
    {
      "metadata": {
        "id": "P5Wsyyd0qNtX",
        "colab_type": "code",
        "colab": {}
      },
      "cell_type": "code",
      "source": [
        "\"\"\" This module generates notes for a midi file using the\n",
        "  trained neural network \"\"\"\n",
        "import pickle\n",
        "import numpy\n",
        "import keras\n",
        "from music21 import instrument, note, stream, chord\n",
        "from keras.models import Sequential\n",
        "from keras.layers import Dense\n",
        "from keras.layers import Dropout\n",
        "from keras.layers import LSTM\n",
        "from keras.layers import Activation\n",
        "\n",
        "def generate(idx, notes):\n",
        "  \"\"\" Generate a piano midi file \"\"\"\n",
        "  #load the notes used to train the model\n",
        "  #notes = get_notes()\n",
        "\n",
        "  # Get all pitch names\n",
        "  pitchnames = sorted(set(item for item in notes))\n",
        "  # Get all pitch names\n",
        "  n_vocab = len(set(notes))\n",
        "\n",
        "  network_input, normalized_input = prepare_sequences(notes, pitchnames, n_vocab)\n",
        "  model = create_network(normalized_input, n_vocab)\n",
        "  prediction_output, pattern = generate_notes(model, network_input, idx, pitchnames, n_vocab)\n",
        "  create_midi(prediction_output)\n",
        "  \n",
        "  return pattern\n",
        "\n",
        "\n",
        "def prepare_sequences(notes, pitchnames, n_vocab):\n",
        "  \"\"\" Prepare the sequences used by the Neural Network \"\"\"\n",
        "  # map between notes and integers and back\n",
        "  note_to_int = dict((note, number) for number, note in enumerate(pitchnames))\n",
        "\n",
        "  sequence_length = 100\n",
        "  network_input = []\n",
        "  output = []\n",
        "  for i in range(0, len(notes) - sequence_length, 1):\n",
        "      sequence_in = notes[i:i + sequence_length]\n",
        "      sequence_out = notes[i + sequence_length]\n",
        "      network_input.append([note_to_int[char] for char in sequence_in])\n",
        "      output.append(note_to_int[sequence_out])\n",
        "\n",
        "  n_patterns = len(network_input)\n",
        "\n",
        "  # reshape the input into a format compatible with LSTM layers\n",
        "  normalized_input = numpy.reshape(network_input, (n_patterns, sequence_length, 1))\n",
        "  # normalize input\n",
        "  normalized_input = normalized_input / float(n_vocab)\n",
        "\n",
        "  return (network_input, normalized_input)\n",
        "\n",
        "def create_network(network_input, n_vocab):\n",
        "  \"\"\" create the structure of the neural network \"\"\"\n",
        "  model = Sequential()\n",
        "  model.add(LSTM(\n",
        "      512,\n",
        "      input_shape=(network_input.shape[1], network_input.shape[2]),\n",
        "      return_sequences=True\n",
        "  ))\n",
        "  model.add(Dropout(0.3))\n",
        "  model.add(LSTM(512, return_sequences=True))\n",
        "  model.add(Dropout(0.3))\n",
        "  model.add(LSTM(512))\n",
        "  model.add(Dense(256))\n",
        "  model.add(Dropout(0.3))\n",
        "  model.add(Dense(n_vocab+1))\n",
        "  model.add(Activation('softmax'))\n",
        "  model.compile(loss='categorical_crossentropy', optimizer='rmsprop')\n",
        "\n",
        "  # Load the weights to each node\n",
        "  model.load_weights('new_weights.hdf5')\n",
        "\n",
        "  return model\n",
        "\n",
        "def generate_notes(model, network_input, idx, pitchnames, n_vocab):\n",
        "  \"\"\" Generate notes from the neural network based on a sequence of notes \"\"\"\n",
        "  # pick a random sequence from the input as a starting point for the prediction\n",
        "  #start = numpy.random.randint(0, len(network_input)-1)\n",
        "  start = idx\n",
        "\n",
        "  int_to_note = dict((number, note) for number, note in enumerate(pitchnames))\n",
        "\n",
        "  pattern = network_input[start]\n",
        "  prediction_output = []\n",
        "\n",
        "  # generate 500 notes\n",
        "  #for note_index in range(500):\n",
        "  for note_index in range(100):\n",
        "\n",
        "      prediction_input = numpy.reshape(pattern, (1, len(pattern), 1))\n",
        "      prediction_input = prediction_input / float(n_vocab)\n",
        "\n",
        "      prediction = model.predict(prediction_input, verbose=0)\n",
        "\n",
        "      index = numpy.argmax(prediction)\n",
        "      result = int_to_note[index]\n",
        "      prediction_output.append(result)\n",
        "\n",
        "      pattern.append(index)\n",
        "      pattern = pattern[1:len(pattern)]\n",
        "\n",
        "  return prediction_output, pattern\n",
        "\n",
        "def create_midi(prediction_output):\n",
        "  \"\"\" convert the output from the prediction to notes and create a midi file\n",
        "      from the notes \"\"\"\n",
        "  offset = 0\n",
        "  output_notes = []\n",
        "\n",
        "  # create note and chord objects based on the values generated by the model\n",
        "  for pattern in prediction_output:\n",
        "      # pattern is a chord\n",
        "      if ('.' in pattern) or pattern.isdigit():\n",
        "          notes_in_chord = pattern.split('.')\n",
        "          notes = []\n",
        "          for current_note in notes_in_chord:\n",
        "              new_note = note.Note(int(current_note))\n",
        "              new_note.storedInstrument = instrument.Piano()\n",
        "              notes.append(new_note)\n",
        "          new_chord = chord.Chord(notes)\n",
        "          new_chord.offset = offset\n",
        "          output_notes.append(new_chord)\n",
        "      # pattern is a note\n",
        "      else:\n",
        "          new_note = note.Note(pattern)\n",
        "          new_note.offset = offset\n",
        "          new_note.storedInstrument = instrument.Piano()\n",
        "          output_notes.append(new_note)\n",
        "\n",
        "      # increase offset each iteration so that notes do not stack\n",
        "      offset += 0.5\n",
        "\n",
        "  midi_stream = stream.Stream(output_notes)\n",
        "\n",
        "  midi_stream.write('midi', fp='test_output.mid')\n",
        "  \n",
        "  \n",
        "def generate_notes_from_melody(normalized_meloday_seq, network_input, idx, pitchnames, n_vocab):\n",
        "  \"\"\" Generate notes from the neural network based on a sequence of notes \"\"\"\n",
        "  # pick a random sequence from the input as a starting point for the prediction\n",
        "  #start = numpy.random.randint(0, len(network_input)-1)\n",
        "  start = idx\n",
        "\n",
        "  int_to_note = dict((number, note) for number, note in enumerate(pitchnames))\n",
        "\n",
        "  #pattern = network_input[start]\n",
        "  pattern = normalized_meloday_seq\n",
        "  prediction_output = []\n",
        "\n",
        "  # generate 500 notes\n",
        "  #for note_index in range(500):\n",
        "  for note_index in range(100):\n",
        "\n",
        "      prediction_input = numpy.reshape(pattern, (1, len(pattern), 1))\n",
        "      prediction_input = prediction_input / float(n_vocab)\n",
        "\n",
        "      prediction = model.predict(prediction_input, verbose=0)\n",
        "\n",
        "      index = numpy.argmax(prediction)\n",
        "      result = int_to_note[index]\n",
        "      prediction_output.append(result)\n",
        "\n",
        "      pattern = np.concatenate((pattern, np.array([index])))\n",
        "      pattern = pattern[1:len(pattern)]\n",
        "\n",
        "  return prediction_output, pattern\n",
        "\n",
        "\n",
        "def generate_from_melody(normalized_melody_seq, notes):\n",
        "  \"\"\" Generate a piano midi file \"\"\"\n",
        "  #load the notes used to train the model\n",
        "  #notes = get_notes()\n",
        "\n",
        "  # Get all pitch names\n",
        "  pitchnames = sorted(set(item for item in notes))\n",
        "  # Get all pitch names\n",
        "  n_vocab = len(set(notes))\n",
        "\n",
        "  network_input, normalized_input = prepare_sequences(notes, pitchnames, n_vocab)\n",
        "  model = create_network(normalized_input, n_vocab)\n",
        "  prediction_output, pattern = generate_notes_from_melody(normalized_melody_seq, network_input, 0, pitchnames, n_vocab)\n",
        "  create_midi(prediction_output)\n",
        "  \n",
        "  return pattern"
      ],
      "execution_count": 0,
      "outputs": []
    },
    {
      "metadata": {
        "id": "2l-pBqe7qYeu",
        "colab_type": "code",
        "outputId": "cc0969a2-e489-4b3d-b2d8-fdd11b5b6915",
        "colab": {
          "base_uri": "https://localhost:8080/",
          "height": 1581
        }
      },
      "cell_type": "code",
      "source": [
        "notes = get_notes()"
      ],
      "execution_count": 10,
      "outputs": [
        {
          "output_type": "stream",
          "text": [
            "Parsing midi_songs/AT.mid\n",
            "Parsing midi_songs/VincentPiano.mid\n",
            "Parsing midi_songs/Gold_Silver_Rival_Battle.mid\n",
            "Parsing midi_songs/ff4-town.mid\n",
            "Parsing midi_songs/Kingdom_Hearts_Traverse_Town.mid\n",
            "Parsing midi_songs/Finalfantasy6fanfarecomplete.mid\n",
            "Parsing midi_songs/ff7themep.mid\n",
            "Parsing midi_songs/Final_Fantasy_7_-_Judgement_Day_Piano.mid\n",
            "Parsing midi_songs/electric_de_chocobo.mid\n",
            "Parsing midi_songs/JENOVA.mid\n",
            "Parsing midi_songs/dontbeafraid.mid\n",
            "Parsing midi_songs/FFVII_BATTLE.mid\n",
            "Parsing midi_songs/EyesOnMePiano.mid\n",
            "Parsing midi_songs/sera_.mid\n",
            "Parsing midi_songs/ff4pclov.mid\n",
            "Parsing midi_songs/mining.mid\n",
            "Parsing midi_songs/Kingdom_Hearts_Dearly_Beloved.mid\n",
            "Parsing midi_songs/FF4.mid\n",
            "Parsing midi_songs/traitor.mid\n",
            "Parsing midi_songs/BlueStone_LastDungeon.mid\n",
            "Parsing midi_songs/pkelite4.mid\n",
            "Parsing midi_songs/Fiend_Battle_(Piano).mid\n",
            "Parsing midi_songs/Rachel_Piano_tempofix.mid\n",
            "Parsing midi_songs/sandy.mid\n",
            "Parsing midi_songs/dayafter.mid\n",
            "Parsing midi_songs/DOS.mid\n",
            "Parsing midi_songs/Fierce_Battle_(Piano).mid\n",
            "Parsing midi_songs/FFIXQuMarshP.mid\n",
            "Parsing midi_songs/cosmo.mid\n",
            "Parsing midi_songs/Life_Stream.mid\n",
            "Parsing midi_songs/ViviinAlexandria.mid\n",
            "Parsing midi_songs/Oppressed.mid\n",
            "Parsing midi_songs/tifap.mid\n",
            "Parsing midi_songs/goldsaucer.mid\n",
            "Parsing midi_songs/redwings.mid\n",
            "Parsing midi_songs/Rydia_pc.mid\n",
            "Parsing midi_songs/braska.mid\n",
            "Parsing midi_songs/ff8-lfp.mid\n",
            "Parsing midi_songs/sobf.mid\n",
            "Parsing midi_songs/ultros.mid\n",
            "Parsing midi_songs/FFIX_Piano.mid\n",
            "Parsing midi_songs/figaro.mid\n",
            "Parsing midi_songs/Eternal_Harvest.mid\n",
            "Parsing midi_songs/FF6epitaph_piano.mid\n",
            "Parsing midi_songs/FFX_-_Ending_Theme_(Piano_Version)_-_by_Angel_FF.mid\n",
            "Parsing midi_songs/HighwindTakestotheSkies.mid\n",
            "Parsing midi_songs/tpirtsd-piano.mid\n",
            "Parsing midi_songs/Cids.mid\n",
            "Parsing midi_songs/bcm.mid\n",
            "Parsing midi_songs/FF8_Shuffle_or_boogie_pc.mid\n",
            "Parsing midi_songs/balamb.mid\n",
            "Parsing midi_songs/Ff7-Cinco.mid\n",
            "Parsing midi_songs/8.mid\n",
            "Parsing midi_songs/Finalfantasy5gilgameshp.mid\n",
            "Parsing midi_songs/Suteki_Da_Ne_(Piano_Version).mid\n",
            "Parsing midi_songs/0fithos.mid\n",
            "Parsing midi_songs/fortresscondor.mid\n",
            "Parsing midi_songs/caitsith.mid\n",
            "Parsing midi_songs/ff4-fight1.mid\n",
            "Parsing midi_songs/great_war.mid\n",
            "Parsing midi_songs/OTD5YA.mid\n",
            "Parsing midi_songs/Ff4-BattleLust.mid\n",
            "Parsing midi_songs/ff4_piano_collections-main_theme.mid\n",
            "Parsing midi_songs/thenightmarebegins.mid\n",
            "Parsing midi_songs/waltz_de_choco.mid\n",
            "Parsing midi_songs/FFIII_Edgar_And_Sabin_Piano.mid\n",
            "Parsing midi_songs/ultimafro.mid\n",
            "Parsing midi_songs/ff6shap.mid\n",
            "Parsing midi_songs/Still_Alive-1.mid\n",
            "Parsing midi_songs/ff7-mainmidi.mid\n",
            "Parsing midi_songs/FF3_Third_Phase_Final_(Piano).mid\n",
            "Parsing midi_songs/ff1battp.mid\n",
            "Parsing midi_songs/costadsol.mid\n",
            "Parsing midi_songs/Zelda_Overworld.mid\n",
            "Parsing midi_songs/z_aeristhemepiano.mid\n",
            "Parsing midi_songs/Fyw_piano.mid\n",
            "Parsing midi_songs/path_of_repentance.mid\n",
            "Parsing midi_songs/FF3_Battle_(Piano).mid\n",
            "Parsing midi_songs/ff4-airship.mid\n",
            "Parsing midi_songs/decisive.mid\n",
            "Parsing midi_songs/gerudo.mid\n",
            "Parsing midi_songs/Final_Fantasy_Matouyas_Cave_Piano.mid\n",
            "Parsing midi_songs/ff11_awakening_piano.mid\n",
            "Parsing midi_songs/Ff7-One_Winged.mid\n",
            "Parsing midi_songs/In_Zanarkand.mid\n",
            "Parsing midi_songs/roseofmay-piano.mid\n",
            "Parsing midi_songs/thoughts.mid\n",
            "Parsing midi_songs/lurk_in_dark.mid\n",
            "Parsing midi_songs/Ff7-Jenova_Absolute.mid\n",
            "Parsing midi_songs/relmstheme-piano.mid\n",
            "Parsing midi_songs/ahead_on_our_way_piano.mid\n",
            "Parsing midi_songs/rufus.mid\n"
          ],
          "name": "stdout"
        }
      ]
    },
    {
      "metadata": {
        "id": "8FDVnUD0qeBu",
        "colab_type": "code",
        "colab": {}
      },
      "cell_type": "code",
      "source": [
        "pitchnames = sorted(set(item for item in notes))\n",
        "n_vocab = len(set(notes))\n",
        "input_sequences, output_sequences = prepare_sequences(notes, pitchnames, n_vocab)"
      ],
      "execution_count": 0,
      "outputs": []
    },
    {
      "metadata": {
        "id": "nDg4q_QsrGiF",
        "colab_type": "code",
        "colab": {}
      },
      "cell_type": "code",
      "source": [
        "preds = np.array(generate(0, notes))"
      ],
      "execution_count": 0,
      "outputs": []
    },
    {
      "metadata": {
        "id": "P_iOa25crd5G",
        "colab_type": "code",
        "outputId": "334f1843-2884-4022-815d-6e78caa3cc41",
        "colab": {
          "base_uri": "https://localhost:8080/",
          "height": 357
        }
      },
      "cell_type": "code",
      "source": [
        "np.array(preds) / n_vocab"
      ],
      "execution_count": 13,
      "outputs": [
        {
          "output_type": "execute_result",
          "data": {
            "text/plain": [
              "array([0.96089385, 0.79608939, 0.85195531, 0.96089385, 0.79608939,\n",
              "       0.85195531, 0.99441341, 0.79608939, 0.85195531, 0.96089385,\n",
              "       0.79608939, 0.85195531, 0.96089385, 0.79608939, 0.85195531,\n",
              "       0.96648045, 0.88826816, 0.83240223, 0.79608939, 0.96089385,\n",
              "       0.79608939, 0.83240223, 0.96089385, 0.79608939, 0.83240223,\n",
              "       0.99441341, 0.79608939, 0.83240223, 0.96089385, 0.79608939,\n",
              "       0.83240223, 0.96089385, 0.79608939, 0.83240223, 0.96648045,\n",
              "       0.88826816, 0.81284916, 0.79608939, 0.99441341, 0.79608939,\n",
              "       0.83240223, 0.96089385, 0.79608939, 0.81284916, 0.99441341,\n",
              "       0.79608939, 0.83240223, 0.99441341, 0.79608939, 0.83240223,\n",
              "       0.96089385, 0.79608939, 0.83240223, 0.96648045, 0.88826816,\n",
              "       0.81284916, 0.79608939, 0.99441341, 0.79608939, 0.83240223,\n",
              "       0.96089385, 0.79608939, 0.81284916, 0.99441341, 0.79608939,\n",
              "       0.83240223, 0.99441341, 0.79608939, 0.83240223, 0.96089385,\n",
              "       0.79608939, 0.83240223, 0.96648045, 0.88826816, 0.81284916,\n",
              "       0.79608939, 0.99441341, 0.79608939, 0.83240223, 0.96089385,\n",
              "       0.79608939, 0.81284916, 0.99441341, 0.79608939, 0.83240223,\n",
              "       0.99441341, 0.79608939, 0.83240223, 0.96089385, 0.79608939,\n",
              "       0.83240223, 0.96648045, 0.88826816, 0.81284916, 0.79608939,\n",
              "       0.99441341, 0.79608939, 0.83240223, 0.96089385, 0.79608939])"
            ]
          },
          "metadata": {
            "tags": []
          },
          "execution_count": 13
        }
      ]
    },
    {
      "metadata": {
        "id": "7sXz0tettNt8",
        "colab_type": "text"
      },
      "cell_type": "markdown",
      "source": [
        "# Define Training Loop"
      ]
    },
    {
      "metadata": {
        "id": "PDaGZQN_tPP4",
        "colab_type": "code",
        "colab": {}
      },
      "cell_type": "code",
      "source": [
        "def transfer_style(input_melody, trained_model, prog_model, hparams):\n",
        "  \n",
        "  # Parse the dictionary of hyperparameters.\n",
        "  learning_rate = None\n",
        "  alpha = None\n",
        "  beta = None\n",
        "  epse = None\n",
        "  if not hparams['learning_rate']:\n",
        "    learning_rate = 0.001\n",
        "  else:\n",
        "    learning_rate = hparams['learning_rate']\n",
        "  if not hparams['alpha']:\n",
        "    alpha = 1.0\n",
        "  else:\n",
        "    alpha = hparams['alpha']\n",
        "  if not hparams['beta']:\n",
        "    beta = 1.0\n",
        "  else:\n",
        "    beta = hparams['beta']\n",
        "  if not hparams['eps']:\n",
        "    eps = 0.1\n",
        "  else:\n",
        "    eps = hparams['eps']\n",
        "  \n",
        "  # Make sure we're not backpropagating to the pre-trained model layers.\n",
        "  for layer in trained_model.layers:\n",
        "    layer.trainable = False\n",
        "    \n",
        "  vars_to_update = []\n",
        "      \n",
        "  # Define the training loop.\n",
        "  last_tot_loss = 999999999999.99\n",
        "  output_sequence = None\n",
        "  with tf.Session() as sess:\n",
        "    \n",
        "     # Assume that the prog_model has randomly initialized all variables in LSTM\n",
        "    # and Dense layers.\n",
        "    var_init = tf.global_variables_initializer()\n",
        "    sess.run(var_init)\n",
        "    \n",
        "    for i in range(len(prog_model.layers)):\n",
        "      layer = prog_model.layers[i]\n",
        "      layer_name = layer.name\n",
        "      \n",
        "      # Check if layer is LSTM or Dense\n",
        "      # TODO: Do we really want to update the Dense layers here?\n",
        "      if not (str(type(layer) == \"<class 'keras.layers.recurrent.LSTM'>\")) and \\\n",
        "          not (str(type(layer) == \"<class 'keras.layers.core.Dense'>\")):\n",
        "        continue        \n",
        "      \n",
        "      vars_to_update += \\\n",
        "        [tf_var for tf_var in tf.trainable_variables() if layer_name in tf_var.name]\n",
        "    \n",
        "    # Pass input seq and output seq and two different models to total_loss.\n",
        "    output_sequence = generate_from_melody(input_melody, notes)\n",
        "    output_sequence /= n_vocab\n",
        "    cont_loss = content_loss(input_melody, output_sequence)\n",
        "    sty_loss = style_loss(trained_model, prog_model)\n",
        "    tot_loss = total_loss(input_melody, output_sequence, trained_model, prog_model, alpha, beta)\n",
        "    \n",
        "    # Update the weights in each layer of prog_model based on the total loss.\n",
        "    update_op = tf.train.RMSPropOptimizer(learning_rate, name=\"ERIK_RMS_PROP\") \\\n",
        "      .minimize(tot_loss, var_list=vars_to_update)\n",
        "    \n",
        "    # Assume that the prog_model has randomly initialized all variables in LSTM\n",
        "    # and Dense layers.\n",
        "    var_init = tf.global_variables_initializer()\n",
        "    sess.run(var_init)\n",
        "    \n",
        "    satisfied = False\n",
        "    counter = 1\n",
        "    while counter <= 20:\n",
        "      print(\"Epoch {}:\".format(counter))\n",
        "      print(\"\\tWe are not satisfied!\")\n",
        "      # Generate an output sequence from the input sequence.\n",
        "      if counter != 1:\n",
        "        output_sequence = generate_from_melody(input_melody, notes)\n",
        "        output_sequence /= n_vocab\n",
        "      tl = sess.run(tot_loss)\n",
        "      print(\"\\tLoss: {}\".format(tl))\n",
        "      tot_loss = total_loss(input_melody, output_sequence, trained_model, prog_model, alpha, beta)\n",
        "      sess.run(update_op)\n",
        "      \n",
        "      # Decide when we are satisfied.\n",
        "      loss_diff = sess.run(abs(last_tot_loss - tot_loss))\n",
        "      last_tot_loss = tl\n",
        "      satisfied = (loss_diff < eps)\n",
        "      counter += 1\n",
        "\n",
        "  return output_sequence\n",
        "        "
      ],
      "execution_count": 0,
      "outputs": []
    },
    {
      "metadata": {
        "id": "HgkLhPWX6jvT",
        "colab_type": "text"
      },
      "cell_type": "markdown",
      "source": [
        "# Generate Input Melodies"
      ]
    },
    {
      "metadata": {
        "id": "jrW_4rX1eyfO",
        "colab_type": "code",
        "colab": {}
      },
      "cell_type": "code",
      "source": [
        "# Parse a MIDI file and extrac the notes.\n",
        "twinkle_stream = music21.converter.parse(\"/content/drive/My Drive/deep_learning/midis/melodies/twinkle_twinkle.mid\")\n",
        "only_part = twinkle_stream.parts[0]\n",
        "melody_notes = []\n",
        "for the_note in only_part:\n",
        "  if isinstance(the_note, music21.note.Note):\n",
        "    melody_notes.append(the_note)\n",
        "\n",
        "# Convert the notes in the melody to our vocab.\n",
        "melody = []\n",
        "for the_note in melody_notes:\n",
        "  note_str = the_note.step + str(the_note.octave)\n",
        "  index = pitchnames.index(note_str)\n",
        "  melody.append(index)"
      ],
      "execution_count": 0,
      "outputs": []
    },
    {
      "metadata": {
        "id": "SYtMyholmgX3",
        "colab_type": "text"
      },
      "cell_type": "markdown",
      "source": [
        "# Sample Training"
      ]
    },
    {
      "metadata": {
        "id": "1C7qbUeQrF_U",
        "colab_type": "code",
        "outputId": "71ddeaa9-2249-499c-a269-b23eacf4263d",
        "colab": {
          "base_uri": "https://localhost:8080/",
          "height": 323
        }
      },
      "cell_type": "code",
      "source": [
        "melody = np.array(melody) / n_vocab\n",
        "curr_ind = 0\n",
        "while len(melody) < 100:\n",
        "  melody = np.concatenate((melody, [melody[curr_ind]]))\n",
        "  curr_ind += 1\n",
        "\n",
        "print(\"Twinkle Length: {}\".format(len(melody)))\n",
        "print(melody)"
      ],
      "execution_count": 16,
      "outputs": [
        {
          "output_type": "stream",
          "text": [
            "Twinkle Length: 100\n",
            "[0.86871508 0.86871508 0.99162011 0.99162011 0.79608939 0.79608939\n",
            " 0.99162011 0.95810056 0.95810056 0.92458101 0.92458101 0.88826816\n",
            " 0.88826816 0.86871508 0.99162011 0.99162011 0.95810056 0.95810056\n",
            " 0.92458101 0.92458101 0.88826816 0.99162011 0.99162011 0.95810056\n",
            " 0.95810056 0.92458101 0.92458101 0.88826816 0.86871508 0.86871508\n",
            " 0.99162011 0.99162011 0.79608939 0.79608939 0.99162011 0.95810056\n",
            " 0.95810056 0.92458101 0.92458101 0.88826816 0.88826816 0.86871508\n",
            " 0.86871508 0.86871508 0.99162011 0.99162011 0.79608939 0.79608939\n",
            " 0.99162011 0.95810056 0.95810056 0.92458101 0.92458101 0.88826816\n",
            " 0.88826816 0.86871508 0.99162011 0.99162011 0.95810056 0.95810056\n",
            " 0.92458101 0.92458101 0.88826816 0.99162011 0.99162011 0.95810056\n",
            " 0.95810056 0.92458101 0.92458101 0.88826816 0.86871508 0.86871508\n",
            " 0.99162011 0.99162011 0.79608939 0.79608939 0.99162011 0.95810056\n",
            " 0.95810056 0.92458101 0.92458101 0.88826816 0.88826816 0.86871508\n",
            " 0.86871508 0.86871508 0.99162011 0.99162011 0.79608939 0.79608939\n",
            " 0.99162011 0.95810056 0.95810056 0.92458101 0.92458101 0.88826816\n",
            " 0.88826816 0.86871508 0.99162011 0.99162011]\n"
          ],
          "name": "stdout"
        }
      ]
    },
    {
      "metadata": {
        "id": "kOn-an4jmmbs",
        "colab_type": "code",
        "colab": {}
      },
      "cell_type": "code",
      "source": [
        "# Load pre-trained model\n",
        "from keras.layers import LSTM, Dropout, Dense, Activation\n",
        "from keras import Sequential\n",
        "from keras import backend as K\n",
        "\n",
        "K.clear_session()\n",
        "tf.reset_default_graph()\n",
        "\n",
        "model = Sequential()\n",
        "model.add(LSTM(512, input_shape=(100, 1), return_sequences=True))\n",
        "model.add(Dropout(0.3))\n",
        "model.add(LSTM(512, return_sequences=True))\n",
        "model.add(Dropout(0.3))\n",
        "model.add(LSTM(512))\n",
        "model.add(Dense(256))\n",
        "model.add(Dropout(0.3))\n",
        "model.add(Dense(359))\n",
        "model.add(Activation('softmax'))\n",
        "#model.compile(loss='categorical_crossentropy', optimizer='rmsprop')\n",
        "# Load the weights to each node\n",
        "model.load_weights('new_weights.hdf5')\n",
        "\n",
        "# Make a copy of the trained model that we'll modify for style transfer purposes.\n",
        "hparams = {}\n",
        "hparams['learning_rate'] = 1e-3\n",
        "hparams['alpha'] = 5e-2   # Weight of content loss\n",
        "hparams['beta'] = 5e-4    # Weight of style loss\n",
        "hparams['eps'] = 5.0      # Delta loss stopping criteria\n",
        "\n",
        "transfer_model = Sequential()\n",
        "transfer_model.add(LSTM(512, input_shape=(100, 1), return_sequences=True))\n",
        "transfer_model.add(Dropout(0.3))\n",
        "transfer_model.add(LSTM(512, return_sequences=True))\n",
        "transfer_model.add(Dropout(0.3))\n",
        "transfer_model.add(LSTM(512))\n",
        "transfer_model.add(Dense(256))\n",
        "transfer_model.add(Dropout(0.3))\n",
        "transfer_model.add(Dense(359))\n",
        "transfer_model.add(Activation('softmax'))"
      ],
      "execution_count": 0,
      "outputs": []
    },
    {
      "metadata": {
        "id": "BChxTKunsudo",
        "colab_type": "code",
        "outputId": "5909fc87-faa1-45c0-d661-fc0658398700",
        "colab": {
          "base_uri": "https://localhost:8080/",
          "height": 1037
        }
      },
      "cell_type": "code",
      "source": [
        "out_song = transfer_style(melody, model, transfer_model, hparams)"
      ],
      "execution_count": 56,
      "outputs": [
        {
          "output_type": "stream",
          "text": [
            "Epoch 1:\n",
            "\tWe are not satisfied!\n",
            "\tLoss: 4.2150325444789285\n",
            "Epoch 2:\n",
            "\tWe are not satisfied!\n",
            "\tLoss: 3.9830627866545614\n",
            "Epoch 3:\n",
            "\tWe are not satisfied!\n",
            "\tLoss: 3.9830542035857137\n",
            "Epoch 4:\n",
            "\tWe are not satisfied!\n",
            "\tLoss: 3.983045143679708\n",
            "Epoch 5:\n",
            "\tWe are not satisfied!\n",
            "\tLoss: 3.983035845355123\n",
            "Epoch 6:\n",
            "\tWe are not satisfied!\n",
            "\tLoss: 3.983026308611959\n",
            "Epoch 7:\n",
            "\tWe are not satisfied!\n",
            "\tLoss: 3.98301534135732\n",
            "Epoch 8:\n",
            "\tWe are not satisfied!\n",
            "\tLoss: 3.9830043741026815\n",
            "Epoch 9:\n",
            "\tWe are not satisfied!\n",
            "\tLoss: 3.9829929300108846\n",
            "Epoch 10:\n",
            "\tWe are not satisfied!\n",
            "\tLoss: 3.9829807706633504\n",
            "Epoch 11:\n",
            "\tWe are not satisfied!\n",
            "\tLoss: 3.982967896060079\n",
            "Epoch 12:\n",
            "\tWe are not satisfied!\n",
            "\tLoss: 3.982953829363912\n",
            "Epoch 13:\n",
            "\tWe are not satisfied!\n",
            "\tLoss: 3.982939762667745\n",
            "Epoch 14:\n",
            "\tWe are not satisfied!\n",
            "\tLoss: 3.9829247422972616\n",
            "Epoch 15:\n",
            "\tWe are not satisfied!\n",
            "\tLoss: 3.9829085298338827\n",
            "Epoch 16:\n",
            "\tWe are not satisfied!\n",
            "\tLoss: 3.9828918405333456\n",
            "Epoch 17:\n",
            "\tWe are not satisfied!\n",
            "\tLoss: 3.982873959139913\n",
            "Epoch 18:\n",
            "\tWe are not satisfied!\n",
            "\tLoss: 3.982855362490743\n",
            "Epoch 19:\n",
            "\tWe are not satisfied!\n",
            "\tLoss: 3.9828355737486776\n",
            "Epoch 20:\n",
            "\tWe are not satisfied!\n",
            "\tLoss: 3.982815308169454\n"
          ],
          "name": "stdout"
        }
      ]
    },
    {
      "metadata": {
        "id": "F9LM_DkH3_bp",
        "colab_type": "text"
      },
      "cell_type": "markdown",
      "source": [
        "# Future Work\n",
        "\n",
        "One of the things we didn't have much time for was hyperparameter optimization.  Since the training loop takes a LONG time to run, it was infeasible for us to fine tune the learning rate and the weights for style and content loss."
      ]
    }
  ]
}