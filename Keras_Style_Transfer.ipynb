{
  "nbformat": 4,
  "nbformat_minor": 0,
  "metadata": {
    "colab": {
      "name": "Keras Style Transfer",
      "version": "0.3.2",
      "provenance": [],
      "collapsed_sections": [],
      "include_colab_link": true
    },
    "kernelspec": {
      "name": "python3",
      "display_name": "Python 3"
    },
    "accelerator": "GPU"
  },
  "cells": [
    {
      "cell_type": "markdown",
      "metadata": {
        "id": "view-in-github",
        "colab_type": "text"
      },
      "source": [
        "<a href=\"https://colab.research.google.com/github/eswens13/style_transfer/blob/dev/erik/Keras_Style_Transfer.ipynb\" target=\"_parent\"><img src=\"https://colab.research.google.com/assets/colab-badge.svg\" alt=\"Open In Colab\"/></a>"
      ]
    },
    {
      "metadata": {
        "id": "3GRf8wVhVEXn",
        "colab_type": "text"
      },
      "cell_type": "markdown",
      "source": [
        "# Setup\n"
      ]
    },
    {
      "metadata": {
        "id": "SLlYaef2V-Ta",
        "colab_type": "text"
      },
      "cell_type": "markdown",
      "source": [
        "## Imports and Installs"
      ]
    },
    {
      "metadata": {
        "id": "v-CqZskHcALm",
        "colab_type": "code",
        "outputId": "addc6f47-0c6c-4cbf-e671-2c984b91cd23",
        "colab": {
          "base_uri": "https://localhost:8080/",
          "height": 122
        }
      },
      "cell_type": "code",
      "source": [
        "from google.colab import drive\n",
        "drive.mount('/content/drive')"
      ],
      "execution_count": 1,
      "outputs": [
        {
          "output_type": "stream",
          "text": [
            "Go to this URL in a browser: https://accounts.google.com/o/oauth2/auth?client_id=947318989803-6bn6qk8qdgf4n4g3pfee6491hc0brc4i.apps.googleusercontent.com&redirect_uri=urn%3Aietf%3Awg%3Aoauth%3A2.0%3Aoob&scope=email%20https%3A%2F%2Fwww.googleapis.com%2Fauth%2Fdocs.test%20https%3A%2F%2Fwww.googleapis.com%2Fauth%2Fdrive%20https%3A%2F%2Fwww.googleapis.com%2Fauth%2Fdrive.photos.readonly%20https%3A%2F%2Fwww.googleapis.com%2Fauth%2Fpeopleapi.readonly&response_type=code\n",
            "\n",
            "Enter your authorization code:\n",
            "··········\n",
            "Mounted at /content/drive\n"
          ],
          "name": "stdout"
        }
      ]
    },
    {
      "metadata": {
        "id": "uVJVkLKSU51l",
        "colab_type": "code",
        "outputId": "1eead1f2-91f5-481c-e1f5-f7f9cb6584ae",
        "colab": {
          "base_uri": "https://localhost:8080/",
          "height": 326
        }
      },
      "cell_type": "code",
      "source": [
        "# Installing packages and cloning git repos\n",
        "!pip install music21\n",
        "!pip install h5py\n",
        "!git clone https://github.com/Skuldur/Classical-Piano-Composer.git"
      ],
      "execution_count": 2,
      "outputs": [
        {
          "output_type": "stream",
          "text": [
            "Collecting music21\n",
            "\u001b[?25l  Downloading https://files.pythonhosted.org/packages/81/de/5af13438e28b80b41e1db0d6f082204fadccd3b1d90c1951568d92df7c68/music21-5.5.0.tar.gz (18.5MB)\n",
            "\u001b[K    100% |████████████████████████████████| 18.5MB 1.6MB/s \n",
            "\u001b[?25hBuilding wheels for collected packages: music21\n",
            "  Running setup.py bdist_wheel for music21 ... \u001b[?25l-\b \b\\\b \b|\b \b/\b \b-\b \b\\\b \b|\b \b/\b \b-\b \b\\\b \b|\b \b/\b \b-\b \b\\\b \b|\b \b/\b \b-\b \b\\\b \b|\b \b/\b \b-\b \b\\\b \b|\b \b/\b \b-\b \b\\\b \b|\b \b/\b \b-\b \b\\\b \b|\b \b/\b \b-\b \b\\\b \b|\b \b/\b \b-\b \b\\\b \b|\b \b/\b \b-\b \b\\\b \b|\b \b/\b \b-\b \b\\\b \b|\b \b/\b \b-\b \b\\\b \b|\b \b/\b \b-\b \b\\\b \b|\b \b/\b \b-\b \b\\\b \b|\b \b/\b \b-\b \b\\\b \b|\b \b/\b \b-\b \b\\\b \b|\b \b/\b \b-\b \b\\\b \b|\b \b/\b \b-\b \b\\\b \b|\b \b/\b \b-\b \b\\\b \b|\b \b/\b \bdone\n",
            "\u001b[?25h  Stored in directory: /root/.cache/pip/wheels/7b/21/95/d396f231b8095f30aba2a1fbffbc2411fb22eb4e611ddbed57\n",
            "Successfully built music21\n",
            "Installing collected packages: music21\n",
            "Successfully installed music21-5.5.0\n",
            "Requirement already satisfied: h5py in /usr/local/lib/python3.6/dist-packages (2.8.0)\n",
            "Requirement already satisfied: six in /usr/local/lib/python3.6/dist-packages (from h5py) (1.11.0)\n",
            "Requirement already satisfied: numpy>=1.7 in /usr/local/lib/python3.6/dist-packages (from h5py) (1.14.6)\n",
            "Cloning into 'Classical-Piano-Composer'...\n",
            "remote: Enumerating objects: 150, done.\u001b[K\n",
            "remote: Total 150 (delta 0), reused 0 (delta 0), pack-reused 150\u001b[K\n",
            "Receiving objects: 100% (150/150), 117.92 MiB | 11.85 MiB/s, done.\n",
            "Resolving deltas: 100% (18/18), done.\n"
          ],
          "name": "stdout"
        }
      ]
    },
    {
      "metadata": {
        "id": "aEGEnvwJVI5A",
        "colab_type": "code",
        "outputId": "e61d3ac8-39de-40b8-a948-0150095b1ced",
        "colab": {
          "base_uri": "https://localhost:8080/",
          "height": 34
        }
      },
      "cell_type": "code",
      "source": [
        "# imports\n",
        "import keras\n",
        "from keras import backend as K\n",
        "import tensorflow as tf\n",
        "import music21\n",
        "import h5py\n",
        "import os\n",
        "import numpy as np"
      ],
      "execution_count": 3,
      "outputs": [
        {
          "output_type": "stream",
          "text": [
            "Using TensorFlow backend.\n"
          ],
          "name": "stderr"
        }
      ]
    },
    {
      "metadata": {
        "id": "UL9lJxeaVPtG",
        "colab_type": "code",
        "colab": {}
      },
      "cell_type": "code",
      "source": [
        "os.chdir('Classical-Piano-Composer')"
      ],
      "execution_count": 0,
      "outputs": []
    },
    {
      "metadata": {
        "id": "eWzSEMNwWldZ",
        "colab_type": "text"
      },
      "cell_type": "markdown",
      "source": [
        "# Define Loss Function"
      ]
    },
    {
      "metadata": {
        "id": "oJ5ZBSNgWa5J",
        "colab_type": "code",
        "colab": {}
      },
      "cell_type": "code",
      "source": [
        "def content_loss(input_sequence, output_sequence):\n",
        "  return tf.linalg.norm(input_sequence - output_sequence)\n",
        "\n",
        "\n",
        "def style_loss(trained_model, new_model):\n",
        "  num_layers = len(trained_model.layers)\n",
        "  loss = 0\n",
        "  \n",
        "  # Loop through weights\n",
        "  for i in range(num_layers):\n",
        "    trained_layer = trained_model.layers[i]\n",
        "    new_layer = new_model.layers[i]\n",
        "    # Check if layer is LSTM or Dense\n",
        "    if not (str(type(trained_layer) == \"<class 'keras.layers.recurrent.LSTM'>\")) and not (str(type(trained_layer) == \"<class 'keras.layers.core.Dense'>\")):\n",
        "      continue\n",
        "  \n",
        "    trained_weights = trained_layer.get_weights()\n",
        "    new_weights = new_layer.get_weights()\n",
        "    for j in range(len(trained_layer.get_weights())):\n",
        "      loss += tf.linalg.norm(trained_weights[j] - new_weights[j])\n",
        "      \n",
        "    \n",
        "  \n",
        "  return loss\n",
        "\n",
        "\n",
        "def total_loss(input_sequence, output_sequence, trained_model, new_model, alpha, beta):\n",
        "  return tf.cast(alpha*content_loss(input_sequence, output_sequence), tf.float64) \\\n",
        "          + tf.cast(beta*style_loss(trained_model, new_model), tf.float64)"
      ],
      "execution_count": 0,
      "outputs": []
    },
    {
      "metadata": {
        "id": "LLGKgnvXdjzN",
        "colab_type": "code",
        "outputId": "89da5652-025a-402d-b73e-0b733e074567",
        "colab": {
          "base_uri": "https://localhost:8080/",
          "height": 34
        }
      },
      "cell_type": "code",
      "source": [
        "\n",
        "style_loss(model, model)"
      ],
      "execution_count": 7,
      "outputs": [
        {
          "output_type": "execute_result",
          "data": {
            "text/plain": [
              "<tf.Tensor 'add_12:0' shape=() dtype=float32>"
            ]
          },
          "metadata": {
            "tags": []
          },
          "execution_count": 7
        }
      ]
    },
    {
      "metadata": {
        "id": "T9SbFGiidrR6",
        "colab_type": "code",
        "outputId": "693e39c8-3466-4d6c-a8e4-7294a182722a",
        "colab": {
          "base_uri": "https://localhost:8080/",
          "height": 34
        }
      },
      "cell_type": "code",
      "source": [
        "input_sequence = tf.zeros(shape=[2,2])\n",
        "output_sequence = tf.zeros(shape=[2,2])\n",
        "\n",
        "with tf.Session() as sess:\n",
        "  init = tf.global_variables_initializer()\n",
        "  sess.run(init)\n",
        "  x = sess.run(content_loss(input_sequence, output_sequence))\n",
        "  y = sess.run(total_loss(input_sequence, output_sequence, model, model, 1, 1))\n",
        "  print(y)"
      ],
      "execution_count": 8,
      "outputs": [
        {
          "output_type": "stream",
          "text": [
            "0.0\n"
          ],
          "name": "stdout"
        }
      ]
    },
    {
      "metadata": {
        "id": "aBdeQvbuqLVP",
        "colab_type": "text"
      },
      "cell_type": "markdown",
      "source": [
        "# Generate a Sequence"
      ]
    },
    {
      "metadata": {
        "id": "22yJsCXwiSrP",
        "colab_type": "code",
        "colab": {}
      },
      "cell_type": "code",
      "source": [
        "from lstm import get_notes, prepare_sequences"
      ],
      "execution_count": 0,
      "outputs": []
    },
    {
      "metadata": {
        "id": "P5Wsyyd0qNtX",
        "colab_type": "code",
        "colab": {}
      },
      "cell_type": "code",
      "source": [
        "\"\"\" This module generates notes for a midi file using the\n",
        "  trained neural network \"\"\"\n",
        "import pickle\n",
        "import numpy\n",
        "import keras\n",
        "from music21 import instrument, note, stream, chord\n",
        "from keras.models import Sequential\n",
        "from keras.layers import Dense\n",
        "from keras.layers import Dropout\n",
        "from keras.layers import LSTM\n",
        "from keras.layers import Activation\n",
        "\n",
        "def generate(idx, notes):\n",
        "  \"\"\" Generate a piano midi file \"\"\"\n",
        "  #load the notes used to train the model\n",
        "  #notes = get_notes()\n",
        "\n",
        "  # Get all pitch names\n",
        "  pitchnames = sorted(set(item for item in notes))\n",
        "  # Get all pitch names\n",
        "  n_vocab = len(set(notes))\n",
        "\n",
        "  network_input, normalized_input = prepare_sequences(notes, pitchnames, n_vocab)\n",
        "  model = create_network(normalized_input, n_vocab)\n",
        "  prediction_output, pattern = generate_notes(model, network_input, idx, pitchnames, n_vocab)\n",
        "  create_midi(prediction_output)\n",
        "  \n",
        "  return pattern\n",
        "\n",
        "\n",
        "def prepare_sequences(notes, pitchnames, n_vocab):\n",
        "  \"\"\" Prepare the sequences used by the Neural Network \"\"\"\n",
        "  # map between notes and integers and back\n",
        "  note_to_int = dict((note, number) for number, note in enumerate(pitchnames))\n",
        "\n",
        "  sequence_length = 100\n",
        "  network_input = []\n",
        "  output = []\n",
        "  for i in range(0, len(notes) - sequence_length, 1):\n",
        "      sequence_in = notes[i:i + sequence_length]\n",
        "      sequence_out = notes[i + sequence_length]\n",
        "      network_input.append([note_to_int[char] for char in sequence_in])\n",
        "      output.append(note_to_int[sequence_out])\n",
        "\n",
        "  n_patterns = len(network_input)\n",
        "\n",
        "  # reshape the input into a format compatible with LSTM layers\n",
        "  normalized_input = numpy.reshape(network_input, (n_patterns, sequence_length, 1))\n",
        "  # normalize input\n",
        "  normalized_input = normalized_input / float(n_vocab)\n",
        "\n",
        "  return (network_input, normalized_input)\n",
        "\n",
        "def create_network(network_input, n_vocab):\n",
        "  \"\"\" create the structure of the neural network \"\"\"\n",
        "  model = Sequential()\n",
        "  model.add(LSTM(\n",
        "      512,\n",
        "      input_shape=(network_input.shape[1], network_input.shape[2]),\n",
        "      return_sequences=True\n",
        "  ))\n",
        "  model.add(Dropout(0.3))\n",
        "  model.add(LSTM(512, return_sequences=True))\n",
        "  model.add(Dropout(0.3))\n",
        "  model.add(LSTM(512))\n",
        "  model.add(Dense(256))\n",
        "  model.add(Dropout(0.3))\n",
        "  model.add(Dense(n_vocab+1))\n",
        "  model.add(Activation('softmax'))\n",
        "  model.compile(loss='categorical_crossentropy', optimizer='rmsprop')\n",
        "\n",
        "  # Load the weights to each node\n",
        "  model.load_weights('new_weights.hdf5')\n",
        "\n",
        "  return model\n",
        "\n",
        "def generate_notes(model, network_input, idx, pitchnames, n_vocab):\n",
        "  \"\"\" Generate notes from the neural network based on a sequence of notes \"\"\"\n",
        "  # pick a random sequence from the input as a starting point for the prediction\n",
        "  #start = numpy.random.randint(0, len(network_input)-1)\n",
        "  start = idx\n",
        "\n",
        "  int_to_note = dict((number, note) for number, note in enumerate(pitchnames))\n",
        "\n",
        "  pattern = network_input[start]\n",
        "  prediction_output = []\n",
        "\n",
        "  # generate 500 notes\n",
        "  #for note_index in range(500):\n",
        "  for note_index in range(100):\n",
        "\n",
        "      prediction_input = numpy.reshape(pattern, (1, len(pattern), 1))\n",
        "      prediction_input = prediction_input / float(n_vocab)\n",
        "\n",
        "      prediction = model.predict(prediction_input, verbose=0)\n",
        "\n",
        "      index = numpy.argmax(prediction)\n",
        "      result = int_to_note[index]\n",
        "      prediction_output.append(result)\n",
        "\n",
        "      pattern.append(index)\n",
        "      pattern = pattern[1:len(pattern)]\n",
        "\n",
        "  return prediction_output, pattern\n",
        "\n",
        "def create_midi(prediction_output):\n",
        "  \"\"\" convert the output from the prediction to notes and create a midi file\n",
        "      from the notes \"\"\"\n",
        "  offset = 0\n",
        "  output_notes = []\n",
        "\n",
        "  # create note and chord objects based on the values generated by the model\n",
        "  for pattern in prediction_output:\n",
        "      # pattern is a chord\n",
        "      if ('.' in pattern) or pattern.isdigit():\n",
        "          notes_in_chord = pattern.split('.')\n",
        "          notes = []\n",
        "          for current_note in notes_in_chord:\n",
        "              new_note = note.Note(int(current_note))\n",
        "              new_note.storedInstrument = instrument.Piano()\n",
        "              notes.append(new_note)\n",
        "          new_chord = chord.Chord(notes)\n",
        "          new_chord.offset = offset\n",
        "          output_notes.append(new_chord)\n",
        "      # pattern is a note\n",
        "      else:\n",
        "          new_note = note.Note(pattern)\n",
        "          new_note.offset = offset\n",
        "          new_note.storedInstrument = instrument.Piano()\n",
        "          output_notes.append(new_note)\n",
        "\n",
        "      # increase offset each iteration so that notes do not stack\n",
        "      offset += 0.5\n",
        "\n",
        "  midi_stream = stream.Stream(output_notes)\n",
        "\n",
        "  midi_stream.write('midi', fp='test_output.mid')\n",
        "  \n",
        "  \n",
        "def generate_notes_from_melody(normalized_meloday_seq, network_input, idx, pitchnames, n_vocab):\n",
        "  \"\"\" Generate notes from the neural network based on a sequence of notes \"\"\"\n",
        "  # pick a random sequence from the input as a starting point for the prediction\n",
        "  #start = numpy.random.randint(0, len(network_input)-1)\n",
        "  start = idx\n",
        "\n",
        "  int_to_note = dict((number, note) for number, note in enumerate(pitchnames))\n",
        "\n",
        "  #pattern = network_input[start]\n",
        "  pattern = normalized_meloday_seq\n",
        "  prediction_output = []\n",
        "\n",
        "  # generate 500 notes\n",
        "  #for note_index in range(500):\n",
        "  for note_index in range(100):\n",
        "\n",
        "      prediction_input = numpy.reshape(pattern, (1, len(pattern), 1))\n",
        "      prediction_input = prediction_input / float(n_vocab)\n",
        "\n",
        "      prediction = model.predict(prediction_input, verbose=0)\n",
        "\n",
        "      index = numpy.argmax(prediction)\n",
        "      result = int_to_note[index]\n",
        "      prediction_output.append(result)\n",
        "\n",
        "      pattern = np.concatenate((pattern, np.array([index])))\n",
        "      pattern = pattern[1:len(pattern)]\n",
        "\n",
        "  return prediction_output, pattern\n",
        "\n",
        "\n",
        "def generate_from_melody(normalized_melody_seq, notes):\n",
        "  \"\"\" Generate a piano midi file \"\"\"\n",
        "  #load the notes used to train the model\n",
        "  #notes = get_notes()\n",
        "\n",
        "  # Get all pitch names\n",
        "  pitchnames = sorted(set(item for item in notes))\n",
        "  # Get all pitch names\n",
        "  n_vocab = len(set(notes))\n",
        "\n",
        "  network_input, normalized_input = prepare_sequences(notes, pitchnames, n_vocab)\n",
        "  model = create_network(normalized_input, n_vocab)\n",
        "  prediction_output, pattern = generate_notes_from_melody(normalized_melody_seq, network_input, 0, pitchnames, n_vocab)\n",
        "  create_midi(prediction_output)\n",
        "  \n",
        "  return pattern"
      ],
      "execution_count": 0,
      "outputs": []
    },
    {
      "metadata": {
        "id": "2l-pBqe7qYeu",
        "colab_type": "code",
        "outputId": "f2ab0655-7a6a-42c7-ecbb-a1e9c367995b",
        "colab": {
          "base_uri": "https://localhost:8080/",
          "height": 1581
        }
      },
      "cell_type": "code",
      "source": [
        "notes = get_notes()"
      ],
      "execution_count": 11,
      "outputs": [
        {
          "output_type": "stream",
          "text": [
            "Parsing midi_songs/waltz_de_choco.mid\n",
            "Parsing midi_songs/goldsaucer.mid\n",
            "Parsing midi_songs/AT.mid\n",
            "Parsing midi_songs/FFIII_Edgar_And_Sabin_Piano.mid\n",
            "Parsing midi_songs/dontbeafraid.mid\n",
            "Parsing midi_songs/fortresscondor.mid\n",
            "Parsing midi_songs/mining.mid\n",
            "Parsing midi_songs/ff4-fight1.mid\n",
            "Parsing midi_songs/Fierce_Battle_(Piano).mid\n",
            "Parsing midi_songs/ahead_on_our_way_piano.mid\n",
            "Parsing midi_songs/ViviinAlexandria.mid\n",
            "Parsing midi_songs/ff7themep.mid\n",
            "Parsing midi_songs/Finalfantasy5gilgameshp.mid\n",
            "Parsing midi_songs/Fyw_piano.mid\n",
            "Parsing midi_songs/Final_Fantasy_7_-_Judgement_Day_Piano.mid\n",
            "Parsing midi_songs/EyesOnMePiano.mid\n",
            "Parsing midi_songs/Final_Fantasy_Matouyas_Cave_Piano.mid\n",
            "Parsing midi_songs/pkelite4.mid\n",
            "Parsing midi_songs/balamb.mid\n",
            "Parsing midi_songs/FF4.mid\n",
            "Parsing midi_songs/sandy.mid\n",
            "Parsing midi_songs/Finalfantasy6fanfarecomplete.mid\n",
            "Parsing midi_songs/Oppressed.mid\n",
            "Parsing midi_songs/braska.mid\n",
            "Parsing midi_songs/JENOVA.mid\n",
            "Parsing midi_songs/Cids.mid\n",
            "Parsing midi_songs/ff4_piano_collections-main_theme.mid\n",
            "Parsing midi_songs/Ff7-Jenova_Absolute.mid\n",
            "Parsing midi_songs/ff7-mainmidi.mid\n",
            "Parsing midi_songs/Suteki_Da_Ne_(Piano_Version).mid\n",
            "Parsing midi_songs/FF3_Battle_(Piano).mid\n",
            "Parsing midi_songs/Fiend_Battle_(Piano).mid\n",
            "Parsing midi_songs/ultros.mid\n",
            "Parsing midi_songs/tifap.mid\n",
            "Parsing midi_songs/sobf.mid\n",
            "Parsing midi_songs/thenightmarebegins.mid\n",
            "Parsing midi_songs/ff1battp.mid\n",
            "Parsing midi_songs/Ff7-Cinco.mid\n",
            "Parsing midi_songs/rufus.mid\n",
            "Parsing midi_songs/figaro.mid\n",
            "Parsing midi_songs/FFIXQuMarshP.mid\n",
            "Parsing midi_songs/lurk_in_dark.mid\n",
            "Parsing midi_songs/bcm.mid\n",
            "Parsing midi_songs/ff11_awakening_piano.mid\n",
            "Parsing midi_songs/Ff4-BattleLust.mid\n",
            "Parsing midi_songs/ff8-lfp.mid\n",
            "Parsing midi_songs/Eternal_Harvest.mid\n",
            "Parsing midi_songs/roseofmay-piano.mid\n",
            "Parsing midi_songs/ff4-airship.mid\n",
            "Parsing midi_songs/FFX_-_Ending_Theme_(Piano_Version)_-_by_Angel_FF.mid\n",
            "Parsing midi_songs/DOS.mid\n",
            "Parsing midi_songs/OTD5YA.mid\n",
            "Parsing midi_songs/costadsol.mid\n",
            "Parsing midi_songs/caitsith.mid\n",
            "Parsing midi_songs/Life_Stream.mid\n",
            "Parsing midi_songs/ff6shap.mid\n",
            "Parsing midi_songs/BlueStone_LastDungeon.mid\n",
            "Parsing midi_songs/ff4-town.mid\n",
            "Parsing midi_songs/relmstheme-piano.mid\n",
            "Parsing midi_songs/great_war.mid\n",
            "Parsing midi_songs/Kingdom_Hearts_Traverse_Town.mid\n",
            "Parsing midi_songs/ultimafro.mid\n",
            "Parsing midi_songs/dayafter.mid\n",
            "Parsing midi_songs/thoughts.mid\n",
            "Parsing midi_songs/path_of_repentance.mid\n",
            "Parsing midi_songs/electric_de_chocobo.mid\n",
            "Parsing midi_songs/FFVII_BATTLE.mid\n",
            "Parsing midi_songs/sera_.mid\n",
            "Parsing midi_songs/VincentPiano.mid\n",
            "Parsing midi_songs/Still_Alive-1.mid\n",
            "Parsing midi_songs/Zelda_Overworld.mid\n",
            "Parsing midi_songs/traitor.mid\n",
            "Parsing midi_songs/Gold_Silver_Rival_Battle.mid\n",
            "Parsing midi_songs/cosmo.mid\n",
            "Parsing midi_songs/decisive.mid\n",
            "Parsing midi_songs/ff4pclov.mid\n",
            "Parsing midi_songs/z_aeristhemepiano.mid\n",
            "Parsing midi_songs/In_Zanarkand.mid\n",
            "Parsing midi_songs/FF6epitaph_piano.mid\n",
            "Parsing midi_songs/Rydia_pc.mid\n",
            "Parsing midi_songs/FFIX_Piano.mid\n",
            "Parsing midi_songs/tpirtsd-piano.mid\n",
            "Parsing midi_songs/Rachel_Piano_tempofix.mid\n",
            "Parsing midi_songs/HighwindTakestotheSkies.mid\n",
            "Parsing midi_songs/gerudo.mid\n",
            "Parsing midi_songs/8.mid\n",
            "Parsing midi_songs/FF8_Shuffle_or_boogie_pc.mid\n",
            "Parsing midi_songs/FF3_Third_Phase_Final_(Piano).mid\n",
            "Parsing midi_songs/redwings.mid\n",
            "Parsing midi_songs/0fithos.mid\n",
            "Parsing midi_songs/Ff7-One_Winged.mid\n",
            "Parsing midi_songs/Kingdom_Hearts_Dearly_Beloved.mid\n"
          ],
          "name": "stdout"
        }
      ]
    },
    {
      "metadata": {
        "id": "8FDVnUD0qeBu",
        "colab_type": "code",
        "colab": {}
      },
      "cell_type": "code",
      "source": [
        "pitchnames = sorted(set(item for item in notes))\n",
        "n_vocab = len(set(notes))\n",
        "input_sequences, output_sequences = prepare_sequences(notes, pitchnames, n_vocab)"
      ],
      "execution_count": 0,
      "outputs": []
    },
    {
      "metadata": {
        "id": "nDg4q_QsrGiF",
        "colab_type": "code",
        "colab": {}
      },
      "cell_type": "code",
      "source": [
        "preds = np.array(generate(0, notes))"
      ],
      "execution_count": 0,
      "outputs": []
    },
    {
      "metadata": {
        "id": "P_iOa25crd5G",
        "colab_type": "code",
        "outputId": "14ebb9d8-d63b-48f3-b999-9248938fd311",
        "colab": {
          "base_uri": "https://localhost:8080/",
          "height": 357
        }
      },
      "cell_type": "code",
      "source": [
        "np.array(preds) / n_vocab"
      ],
      "execution_count": 14,
      "outputs": [
        {
          "output_type": "execute_result",
          "data": {
            "text/plain": [
              "array([0.62290503, 0.79329609, 0.62290503, 0.79329609, 0.24860335,\n",
              "       0.79329609, 0.25418994, 0.79329609, 0.39944134, 0.79329609,\n",
              "       0.81284916, 0.9273743 , 0.99441341, 0.82960894, 0.9273743 ,\n",
              "       0.9273743 , 0.9301676 , 0.89106145, 0.83519553, 0.9301676 ,\n",
              "       0.87430168, 0.98882682, 0.9301676 , 0.99162011, 0.91340782,\n",
              "       0.81284916, 0.79608939, 0.9301676 , 0.9301676 , 0.79329609,\n",
              "       0.79329609, 0.92458101, 0.9301676 , 0.92458101, 0.79329609,\n",
              "       0.94692737, 0.79888268, 0.89385475, 0.8547486 , 0.89385475,\n",
              "       0.79329609, 0.89385475, 0.80167598, 0.92178771, 0.9972067 ,\n",
              "       0.79608939, 0.94692737, 0.88826816, 0.79888268, 0.79329609,\n",
              "       0.79888268, 0.79329609, 0.79329609, 0.79888268, 0.79888268,\n",
              "       0.79329609, 0.79888268, 0.79329609, 0.79329609, 0.97765363,\n",
              "       0.79329609, 0.79329609, 0.79608939, 0.9273743 , 0.79329609,\n",
              "       0.79888268, 0.9301676 , 0.97765363, 0.79888268, 0.94413408,\n",
              "       0.9273743 , 0.98044693, 0.9273743 , 0.82960894, 0.8547486 ,\n",
              "       0.79329609, 0.79329609, 0.83519553, 0.09776536, 0.79888268,\n",
              "       0.79888268, 0.84916201, 0.83519553, 0.9273743 , 0.91061453,\n",
              "       0.88826816, 0.82960894, 0.89385475, 0.82960894, 0.9301676 ,\n",
              "       0.92458101, 0.89106145, 0.92458101, 0.8547486 , 0.9273743 ,\n",
              "       0.82960894, 0.94413408, 0.9301676 , 0.9273743 , 0.82960894])"
            ]
          },
          "metadata": {
            "tags": []
          },
          "execution_count": 14
        }
      ]
    },
    {
      "metadata": {
        "id": "7sXz0tettNt8",
        "colab_type": "text"
      },
      "cell_type": "markdown",
      "source": [
        "# Define Training Loop"
      ]
    },
    {
      "metadata": {
        "id": "PDaGZQN_tPP4",
        "colab_type": "code",
        "colab": {}
      },
      "cell_type": "code",
      "source": [
        "def transfer_style(input_melody, trained_model, prog_model, hparams):\n",
        "  \n",
        "  # Parse the dictionary of hyperparameters.\n",
        "  learning_rate = None\n",
        "  alpha = None\n",
        "  beta = None\n",
        "  epse = None\n",
        "  if not hparams['learning_rate']:\n",
        "    learning_rate = 0.001\n",
        "  else:\n",
        "    learning_rate = hparams['learning_rate']\n",
        "  if not hparams['alpha']:\n",
        "    alpha = 1.0\n",
        "  else:\n",
        "    alpha = hparams['alpha']\n",
        "  if not hparams['beta']:\n",
        "    beta = 1.0\n",
        "  else:\n",
        "    beta = hparams['beta']\n",
        "  if not hparams['eps']:\n",
        "    eps = 0.1\n",
        "  else:\n",
        "    eps = hparams['eps']\n",
        "  \n",
        "  vars_to_update = []\n",
        "      \n",
        "  # Define the training loop.\n",
        "  last_tot_loss = 999999999999.99\n",
        "  output_sequence = None\n",
        "  with tf.Session() as sess:\n",
        "    \n",
        "    # Assume that the prog_model has randomly initialized all variables in LSTM\n",
        "    # and Dense layers.\n",
        "    var_init = tf.global_variables_initializer()\n",
        "    sess.run(var_init)\n",
        "    \n",
        "    for i in range(len(prog_model.layers)):\n",
        "      layer = prog_model.layers[i]\n",
        "      layer_name = layer.name\n",
        "      \n",
        "      # Check if layer is LSTM or Dense\n",
        "      # TODO: Do we really want to update the Dense layers here?\n",
        "      if not (str(type(layer) == \"<class 'keras.layers.recurrent.LSTM'>\")) and \\\n",
        "          not (str(type(layer) == \"<class 'keras.layers.core.Dense'>\")):\n",
        "        continue  \n",
        "      \n",
        "      \n",
        "      vars_to_update += [tf_var for tf_var in tf.trainable_variables() if layer_name in tf_var.name]\n",
        "    \n",
        "    print(\"Vars to update: {}\".format(vars_to_update))\n",
        "    satisfied = False\n",
        "    while not satisfied:\n",
        "      print(\"We are not satisfied!\")\n",
        "      # Generate an output sequence from the input sequence.\n",
        "      output_sequence = generate_from_melody(input_melody, notes)\n",
        "\n",
        "      # Pass input seq and output seq and two different models to total_loss.\n",
        "      tot_loss = total_loss(input_melody, output_sequence, trained_model, prog_model, alpha, beta)\n",
        "      print(\"tot loss: {}\".format(tot_loss))\n",
        "\n",
        "      # Update the weights in each layer of prog_model based on the total loss.\n",
        "      print(\"vars_to_update: {}\".format(vars_to_update))\n",
        "      opt = tf.train.RMSPropOptimizer(learning_rate)\n",
        "      grads_and_vars = opt.compute_gradients()\n",
        "      print(\"grads_and_vars: {}\".format(grads_and_vars))\n",
        "      #update_op = tf.train.RMSPropOptimizer(learning_rate) \\\n",
        "      #  .minimize(tot_loss, var_list=vars_to_update)\n",
        "      sess.run(update_op)\n",
        "      \n",
        "      # Decide when we are satisfied.\n",
        "      satisfied = (abs(last_tot_loss - tot_loss) < eps)      \n",
        "\n",
        "  return output_sequence\n",
        "        "
      ],
      "execution_count": 0,
      "outputs": []
    },
    {
      "metadata": {
        "id": "HgkLhPWX6jvT",
        "colab_type": "text"
      },
      "cell_type": "markdown",
      "source": [
        "# Generate Input Melodies"
      ]
    },
    {
      "metadata": {
        "id": "jrW_4rX1eyfO",
        "colab_type": "code",
        "colab": {}
      },
      "cell_type": "code",
      "source": [
        "# Parse a MIDI file and extrac the notes.\n",
        "twinkle_stream = music21.converter.parse(\"/content/drive/My Drive/deep_learning/midis/melodies/twinkle_twinkle.mid\")\n",
        "only_part = twinkle_stream.parts[0]\n",
        "melody_notes = []\n",
        "for the_note in only_part:\n",
        "  if isinstance(the_note, music21.note.Note):\n",
        "    melody_notes.append(the_note)\n",
        "\n",
        "# Convert the notes in the melody to our vocab.\n",
        "melody = []\n",
        "for the_note in melody_notes:\n",
        "  note_str = the_note.step + str(the_note.octave)\n",
        "  index = pitchnames.index(note_str)\n",
        "  melody.append(index)"
      ],
      "execution_count": 0,
      "outputs": []
    },
    {
      "metadata": {
        "id": "SYtMyholmgX3",
        "colab_type": "text"
      },
      "cell_type": "markdown",
      "source": [
        "# Sample Training"
      ]
    },
    {
      "metadata": {
        "id": "1C7qbUeQrF_U",
        "colab_type": "code",
        "outputId": "1579a1a7-cc72-4a37-af40-2fd2ce5e0e2e",
        "colab": {
          "base_uri": "https://localhost:8080/",
          "height": 323
        }
      },
      "cell_type": "code",
      "source": [
        "melody = np.array(melody) / n_vocab\n",
        "curr_ind = 0\n",
        "while len(melody) < 100:\n",
        "  melody = np.concatenate((melody, [melody[curr_ind]]))\n",
        "  curr_ind += 1\n",
        "\n",
        "print(\"Twinkle Length: {}\".format(len(melody)))\n",
        "print(melody)"
      ],
      "execution_count": 17,
      "outputs": [
        {
          "output_type": "stream",
          "text": [
            "Twinkle Length: 100\n",
            "[0.86871508 0.86871508 0.99162011 0.99162011 0.79608939 0.79608939\n",
            " 0.99162011 0.95810056 0.95810056 0.92458101 0.92458101 0.88826816\n",
            " 0.88826816 0.86871508 0.99162011 0.99162011 0.95810056 0.95810056\n",
            " 0.92458101 0.92458101 0.88826816 0.99162011 0.99162011 0.95810056\n",
            " 0.95810056 0.92458101 0.92458101 0.88826816 0.86871508 0.86871508\n",
            " 0.99162011 0.99162011 0.79608939 0.79608939 0.99162011 0.95810056\n",
            " 0.95810056 0.92458101 0.92458101 0.88826816 0.88826816 0.86871508\n",
            " 0.86871508 0.86871508 0.99162011 0.99162011 0.79608939 0.79608939\n",
            " 0.99162011 0.95810056 0.95810056 0.92458101 0.92458101 0.88826816\n",
            " 0.88826816 0.86871508 0.99162011 0.99162011 0.95810056 0.95810056\n",
            " 0.92458101 0.92458101 0.88826816 0.99162011 0.99162011 0.95810056\n",
            " 0.95810056 0.92458101 0.92458101 0.88826816 0.86871508 0.86871508\n",
            " 0.99162011 0.99162011 0.79608939 0.79608939 0.99162011 0.95810056\n",
            " 0.95810056 0.92458101 0.92458101 0.88826816 0.88826816 0.86871508\n",
            " 0.86871508 0.86871508 0.99162011 0.99162011 0.79608939 0.79608939\n",
            " 0.99162011 0.95810056 0.95810056 0.92458101 0.92458101 0.88826816\n",
            " 0.88826816 0.86871508 0.99162011 0.99162011]\n"
          ],
          "name": "stdout"
        }
      ]
    },
    {
      "metadata": {
        "id": "kOn-an4jmmbs",
        "colab_type": "code",
        "colab": {}
      },
      "cell_type": "code",
      "source": [
        "# Load pre-trained model\n",
        "from keras.layers import LSTM, Dropout, Dense, Activation\n",
        "from keras import Sequential\n",
        "from keras import backend as K\n",
        "\n",
        "K.clear_session()\n",
        "tf.reset_default_graph()\n",
        "\n",
        "model = Sequential()\n",
        "model.add(LSTM(\n",
        "    512,\n",
        "    input_shape=(100, 1),\n",
        "    return_sequences=True\n",
        "))\n",
        "model.add(Dropout(0.3))\n",
        "model.add(LSTM(512, return_sequences=True))\n",
        "model.add(Dropout(0.3))\n",
        "model.add(LSTM(512))\n",
        "model.add(Dense(256))\n",
        "model.add(Dropout(0.3))\n",
        "model.add(Dense(359))\n",
        "model.add(Activation('softmax'))\n",
        "model.compile(loss='categorical_crossentropy', optimizer='rmsprop')\n",
        "# Load the weights to each node\n",
        "model.load_weights('new_weights.hdf5')\n",
        "\n",
        "# Make a copy of the trained model that we'll modify for style transfer purposes.\n",
        "hparams = {}\n",
        "hparams['learning_rate'] = 1e-3\n",
        "hparams['alpha'] = 0.5   # Weight of content loss\n",
        "hparams['beta'] = 0.5    # Weight of style loss\n",
        "hparams['eps'] = 5.0     # Delta loss stopping criteria\n",
        "\n",
        "transfer_model = Sequential()\n",
        "transfer_model.add(LSTM(\n",
        "    512,\n",
        "    input_shape=(100, 1),\n",
        "    return_sequences=True\n",
        "))\n",
        "transfer_model.add(Dropout(0.3))\n",
        "transfer_model.add(LSTM(512, return_sequences=True))\n",
        "transfer_model.add(Dropout(0.3))\n",
        "transfer_model.add(LSTM(512))\n",
        "transfer_model.add(Dense(256))\n",
        "transfer_model.add(Dropout(0.3))\n",
        "transfer_model.add(Dense(359))\n",
        "transfer_model.add(Activation('softmax'))\n",
        "transfer_model.compile(loss='categorical_crossentropy', optimizer='rmsprop')\n",
        "# Load the weights to each node\n",
        "#transfer_model.load_weights('new_weights.hdf5')"
      ],
      "execution_count": 0,
      "outputs": []
    },
    {
      "metadata": {
        "id": "BChxTKunsudo",
        "colab_type": "code",
        "outputId": "31a8c7bc-3eac-4ee3-e773-3e181ceee35d",
        "colab": {
          "base_uri": "https://localhost:8080/",
          "height": 490
        }
      },
      "cell_type": "code",
      "source": [
        "out_song = transfer_style(melody, model, transfer_model, hparams)"
      ],
      "execution_count": 29,
      "outputs": [
        {
          "output_type": "stream",
          "text": [
            "Vars to update: [<tf.Variable 'lstm_4/kernel:0' shape=(1, 2048) dtype=float32_ref>, <tf.Variable 'lstm_4/recurrent_kernel:0' shape=(512, 2048) dtype=float32_ref>, <tf.Variable 'lstm_4/bias:0' shape=(2048,) dtype=float32_ref>, <tf.Variable 'lstm_5/kernel:0' shape=(512, 2048) dtype=float32_ref>, <tf.Variable 'lstm_5/recurrent_kernel:0' shape=(512, 2048) dtype=float32_ref>, <tf.Variable 'lstm_5/bias:0' shape=(2048,) dtype=float32_ref>, <tf.Variable 'lstm_6/kernel:0' shape=(512, 2048) dtype=float32_ref>, <tf.Variable 'lstm_6/recurrent_kernel:0' shape=(512, 2048) dtype=float32_ref>, <tf.Variable 'lstm_6/bias:0' shape=(2048,) dtype=float32_ref>, <tf.Variable 'dense_3/kernel:0' shape=(512, 256) dtype=float32_ref>, <tf.Variable 'dense_3/bias:0' shape=(256,) dtype=float32_ref>, <tf.Variable 'dense_4/kernel:0' shape=(256, 359) dtype=float32_ref>, <tf.Variable 'dense_4/bias:0' shape=(359,) dtype=float32_ref>]\n",
            "We are not satisfied!\n"
          ],
          "name": "stdout"
        },
        {
          "output_type": "stream",
          "text": [
            "Exception ignored in: <bound method BaseSession._Callable.__del__ of <tensorflow.python.client.session.BaseSession._Callable object at 0x7ff477252f98>>\n",
            "Traceback (most recent call last):\n",
            "  File \"/usr/local/lib/python3.6/dist-packages/tensorflow/python/client/session.py\", line 1455, in __del__\n",
            "    self._session._session, self._handle, status)\n",
            "  File \"/usr/local/lib/python3.6/dist-packages/tensorflow/python/framework/errors_impl.py\", line 528, in __exit__\n",
            "    c_api.TF_GetCode(self.status.status))\n",
            "tensorflow.python.framework.errors_impl.CancelledError: Session has been closed.\n"
          ],
          "name": "stderr"
        },
        {
          "output_type": "stream",
          "text": [
            "tot loss: Tensor(\"add_55:0\", shape=(), dtype=float64)\n",
            "vars_to_update: [<tf.Variable 'lstm_4/kernel:0' shape=(1, 2048) dtype=float32_ref>, <tf.Variable 'lstm_4/recurrent_kernel:0' shape=(512, 2048) dtype=float32_ref>, <tf.Variable 'lstm_4/bias:0' shape=(2048,) dtype=float32_ref>, <tf.Variable 'lstm_5/kernel:0' shape=(512, 2048) dtype=float32_ref>, <tf.Variable 'lstm_5/recurrent_kernel:0' shape=(512, 2048) dtype=float32_ref>, <tf.Variable 'lstm_5/bias:0' shape=(2048,) dtype=float32_ref>, <tf.Variable 'lstm_6/kernel:0' shape=(512, 2048) dtype=float32_ref>, <tf.Variable 'lstm_6/recurrent_kernel:0' shape=(512, 2048) dtype=float32_ref>, <tf.Variable 'lstm_6/bias:0' shape=(2048,) dtype=float32_ref>, <tf.Variable 'dense_3/kernel:0' shape=(512, 256) dtype=float32_ref>, <tf.Variable 'dense_3/bias:0' shape=(256,) dtype=float32_ref>, <tf.Variable 'dense_4/kernel:0' shape=(256, 359) dtype=float32_ref>, <tf.Variable 'dense_4/bias:0' shape=(359,) dtype=float32_ref>]\n"
          ],
          "name": "stdout"
        },
        {
          "output_type": "error",
          "ename": "TypeError",
          "evalue": "ignored",
          "traceback": [
            "\u001b[0;31m---------------------------------------------------------------------------\u001b[0m",
            "\u001b[0;31mTypeError\u001b[0m                                 Traceback (most recent call last)",
            "\u001b[0;32m<ipython-input-29-28ddfa048b8c>\u001b[0m in \u001b[0;36m<module>\u001b[0;34m()\u001b[0m\n\u001b[0;32m----> 1\u001b[0;31m \u001b[0mout_song\u001b[0m \u001b[0;34m=\u001b[0m \u001b[0mtransfer_style\u001b[0m\u001b[0;34m(\u001b[0m\u001b[0mmelody\u001b[0m\u001b[0;34m,\u001b[0m \u001b[0mmodel\u001b[0m\u001b[0;34m,\u001b[0m \u001b[0mtransfer_model\u001b[0m\u001b[0;34m,\u001b[0m \u001b[0mhparams\u001b[0m\u001b[0;34m)\u001b[0m\u001b[0;34m\u001b[0m\u001b[0;34m\u001b[0m\u001b[0m\n\u001b[0m",
            "\u001b[0;32m<ipython-input-28-246ed08ebd98>\u001b[0m in \u001b[0;36mtransfer_style\u001b[0;34m(input_melody, trained_model, prog_model, hparams)\u001b[0m\n\u001b[1;32m     61\u001b[0m       \u001b[0mprint\u001b[0m\u001b[0;34m(\u001b[0m\u001b[0;34m\"vars_to_update: {}\"\u001b[0m\u001b[0;34m.\u001b[0m\u001b[0mformat\u001b[0m\u001b[0;34m(\u001b[0m\u001b[0mvars_to_update\u001b[0m\u001b[0;34m)\u001b[0m\u001b[0;34m)\u001b[0m\u001b[0;34m\u001b[0m\u001b[0;34m\u001b[0m\u001b[0m\n\u001b[1;32m     62\u001b[0m       \u001b[0mopt\u001b[0m \u001b[0;34m=\u001b[0m \u001b[0mtf\u001b[0m\u001b[0;34m.\u001b[0m\u001b[0mtrain\u001b[0m\u001b[0;34m.\u001b[0m\u001b[0mRMSPropOptimizer\u001b[0m\u001b[0;34m(\u001b[0m\u001b[0mlearning_rate\u001b[0m\u001b[0;34m)\u001b[0m\u001b[0;34m\u001b[0m\u001b[0;34m\u001b[0m\u001b[0m\n\u001b[0;32m---> 63\u001b[0;31m       \u001b[0mgrads_and_vars\u001b[0m \u001b[0;34m=\u001b[0m \u001b[0mopt\u001b[0m\u001b[0;34m.\u001b[0m\u001b[0mcompute_gradients\u001b[0m\u001b[0;34m(\u001b[0m\u001b[0;34m)\u001b[0m\u001b[0;34m\u001b[0m\u001b[0;34m\u001b[0m\u001b[0m\n\u001b[0m\u001b[1;32m     64\u001b[0m       \u001b[0mprint\u001b[0m\u001b[0;34m(\u001b[0m\u001b[0;34m\"grads_and_vars: {}\"\u001b[0m\u001b[0;34m.\u001b[0m\u001b[0mformat\u001b[0m\u001b[0;34m(\u001b[0m\u001b[0mgrads_and_vars\u001b[0m\u001b[0;34m)\u001b[0m\u001b[0;34m)\u001b[0m\u001b[0;34m\u001b[0m\u001b[0;34m\u001b[0m\u001b[0m\n\u001b[1;32m     65\u001b[0m       \u001b[0;31m#update_op = tf.train.RMSPropOptimizer(learning_rate) \\\u001b[0m\u001b[0;34m\u001b[0m\u001b[0;34m\u001b[0m\u001b[0;34m\u001b[0m\u001b[0m\n",
            "\u001b[0;31mTypeError\u001b[0m: compute_gradients() missing 1 required positional argument: 'loss'"
          ]
        }
      ]
    },
    {
      "metadata": {
        "id": "ut6VcHgkRGD3",
        "colab_type": "code",
        "colab": {}
      },
      "cell_type": "code",
      "source": [
        ""
      ],
      "execution_count": 0,
      "outputs": []
    }
  ]
}